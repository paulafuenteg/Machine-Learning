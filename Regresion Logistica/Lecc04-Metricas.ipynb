{
 "cells": [
  {
   "attachments": {},
   "cell_type": "markdown",
   "metadata": {},
   "source": [
    "## Ejercicios de pair programming 30 enero: Métricas"
   ]
  },
  {
   "cell_type": "code",
   "execution_count": 1,
   "metadata": {},
   "outputs": [],
   "source": [
    "# Tratamiento de datos\n",
    "# -----------------------------------------------------------------------\n",
    "import numpy as np\n",
    "import pandas as pd\n",
    "\n",
    "# Gráficos\n",
    "# ------------------------------------------------------------------------------\n",
    "import matplotlib.pyplot as plt\n",
    "import seaborn as sns\n",
    "\n",
    "\n",
    "#  Modelado y métricas\n",
    "# ------------------------------------------------------------------------------\n",
    "from sklearn.model_selection import train_test_split\n",
    "from sklearn.linear_model import LogisticRegression\n",
    "from sklearn.metrics import confusion_matrix, accuracy_score, precision_score, recall_score, f1_score , cohen_kappa_score, roc_curve,roc_auc_score\n",
    "\n",
    "\n",
    "#  Gestión de warnings\n",
    "# ------------------------------------------------------------------------------\n",
    "import warnings\n",
    "warnings.filterwarnings(\"ignore\")"
   ]
  },
  {
   "attachments": {},
   "cell_type": "markdown",
   "metadata": {},
   "source": [
    "### Info columnas\n",
    "|Column| Type | Description |\n",
    "|-------|--------------|-------------|\n",
    "|distance_from_home| float64|\tThe distance from home where the transaction happened\n",
    "|distance_from_last_transaction| float64|\tThe distance from last transaction happened.\n",
    "|ratio_to_median_purchase_price| float64|\tRatio of purchased price transaction to median purchase price.\n",
    "|repeat_retailer| float64|\tIs the transaction happened from same retailer. \n",
    "|used_chip| float64|\tIs the transaction through chip (credit card)\n",
    "|used_pin_number| float64|\tIs the transaction happened by using PIN number. \n",
    "|online_order | float64| Is the transaction an online order.\n",
    "|fraud | float64| Is the transaction fraudulent.   "
   ]
  },
  {
   "attachments": {},
   "cell_type": "markdown",
   "metadata": {},
   "source": [
    "Enlace del *DataFrame* *[card_transdata](https://www.kaggle.com/datasets/dhanushnarayananr/credit-card-fraud)*"
   ]
  },
  {
   "cell_type": "code",
   "execution_count": 3,
   "metadata": {},
   "outputs": [
    {
     "data": {
      "text/html": [
       "<div>\n",
       "<style scoped>\n",
       "    .dataframe tbody tr th:only-of-type {\n",
       "        vertical-align: middle;\n",
       "    }\n",
       "\n",
       "    .dataframe tbody tr th {\n",
       "        vertical-align: top;\n",
       "    }\n",
       "\n",
       "    .dataframe thead th {\n",
       "        text-align: right;\n",
       "    }\n",
       "</style>\n",
       "<table border=\"1\" class=\"dataframe\">\n",
       "  <thead>\n",
       "    <tr style=\"text-align: right;\">\n",
       "      <th></th>\n",
       "      <th>repeat_retailer</th>\n",
       "      <th>used_chip</th>\n",
       "      <th>used_pin_number</th>\n",
       "      <th>online_order</th>\n",
       "      <th>fraud</th>\n",
       "      <th>distance_from_home</th>\n",
       "      <th>distance_from_last_transaction</th>\n",
       "      <th>ratio_to_median_purchase_price</th>\n",
       "    </tr>\n",
       "  </thead>\n",
       "  <tbody>\n",
       "    <tr>\n",
       "      <th>0</th>\n",
       "      <td>1</td>\n",
       "      <td>1</td>\n",
       "      <td>0</td>\n",
       "      <td>0</td>\n",
       "      <td>0</td>\n",
       "      <td>0.477882</td>\n",
       "      <td>-0.182849</td>\n",
       "      <td>0.043491</td>\n",
       "    </tr>\n",
       "    <tr>\n",
       "      <th>1</th>\n",
       "      <td>1</td>\n",
       "      <td>0</td>\n",
       "      <td>0</td>\n",
       "      <td>0</td>\n",
       "      <td>0</td>\n",
       "      <td>-0.241607</td>\n",
       "      <td>-0.188094</td>\n",
       "      <td>-0.189300</td>\n",
       "    </tr>\n",
       "  </tbody>\n",
       "</table>\n",
       "</div>"
      ],
      "text/plain": [
       "   repeat_retailer  used_chip  used_pin_number  online_order  fraud  \\\n",
       "0                1          1                0             0      0   \n",
       "1                1          0                0             0      0   \n",
       "\n",
       "   distance_from_home  distance_from_last_transaction  \\\n",
       "0            0.477882                       -0.182849   \n",
       "1           -0.241607                       -0.188094   \n",
       "\n",
       "   ratio_to_median_purchase_price  \n",
       "0                        0.043491  \n",
       "1                       -0.189300  "
      ]
     },
     "execution_count": 3,
     "metadata": {},
     "output_type": "execute_result"
    }
   ],
   "source": [
    "df = pd.read_csv(\"../datos/card_transdata_esta.csv\", index_col = 0)\n",
    "df.head(2)"
   ]
  },
  {
   "cell_type": "code",
   "execution_count": 3,
   "metadata": {},
   "outputs": [
    {
     "data": {
      "text/html": [
       "<div>\n",
       "<style scoped>\n",
       "    .dataframe tbody tr th:only-of-type {\n",
       "        vertical-align: middle;\n",
       "    }\n",
       "\n",
       "    .dataframe tbody tr th {\n",
       "        vertical-align: top;\n",
       "    }\n",
       "\n",
       "    .dataframe thead th {\n",
       "        text-align: right;\n",
       "    }\n",
       "</style>\n",
       "<table border=\"1\" class=\"dataframe\">\n",
       "  <thead>\n",
       "    <tr style=\"text-align: right;\">\n",
       "      <th></th>\n",
       "      <th>repeat_retailer</th>\n",
       "      <th>used_chip</th>\n",
       "      <th>used_pin_number</th>\n",
       "      <th>online_order</th>\n",
       "      <th>distance_from_home</th>\n",
       "      <th>distance_from_last_transaction</th>\n",
       "      <th>ratio_to_median_purchase_price</th>\n",
       "      <th>fraud</th>\n",
       "    </tr>\n",
       "  </thead>\n",
       "  <tbody>\n",
       "    <tr>\n",
       "      <th>84611</th>\n",
       "      <td>1</td>\n",
       "      <td>1</td>\n",
       "      <td>0</td>\n",
       "      <td>1</td>\n",
       "      <td>0.556775</td>\n",
       "      <td>-0.174485</td>\n",
       "      <td>7.055171</td>\n",
       "      <td>1</td>\n",
       "    </tr>\n",
       "    <tr>\n",
       "      <th>596799</th>\n",
       "      <td>1</td>\n",
       "      <td>0</td>\n",
       "      <td>0</td>\n",
       "      <td>1</td>\n",
       "      <td>-0.265485</td>\n",
       "      <td>-0.043104</td>\n",
       "      <td>-0.526287</td>\n",
       "      <td>0</td>\n",
       "    </tr>\n",
       "  </tbody>\n",
       "</table>\n",
       "</div>"
      ],
      "text/plain": [
       "        repeat_retailer  used_chip  used_pin_number  online_order  \\\n",
       "84611                 1          1                0             1   \n",
       "596799                1          0                0             1   \n",
       "\n",
       "        distance_from_home  distance_from_last_transaction  \\\n",
       "84611             0.556775                       -0.174485   \n",
       "596799           -0.265485                       -0.043104   \n",
       "\n",
       "        ratio_to_median_purchase_price  fraud  \n",
       "84611                         7.055171      1  \n",
       "596799                       -0.526287      0  "
      ]
     },
     "execution_count": 3,
     "metadata": {},
     "output_type": "execute_result"
    }
   ],
   "source": [
    "balanceado = pd.read_csv(\"../datos/card_transdata_balanceado.csv\", index_col = 0)\n",
    "balanceado.head(2)"
   ]
  },
  {
   "attachments": {},
   "cell_type": "markdown",
   "metadata": {},
   "source": [
    "--- \n",
    "\n",
    "### Variables estandarizadas\n",
    "\n",
    "---"
   ]
  },
  {
   "cell_type": "code",
   "execution_count": 4,
   "metadata": {},
   "outputs": [],
   "source": [
    "#Repetimos el mismo proceso que en el ejercicio anterior\n",
    "X1 = df.drop(\"fraud\", axis = 1)\n",
    "y1 = df[\"fraud\"]"
   ]
  },
  {
   "cell_type": "code",
   "execution_count": 5,
   "metadata": {},
   "outputs": [],
   "source": [
    "x_train1, x_test1, y_train1, y_test1 = train_test_split(X1, y1, test_size = 0.2, random_state = 42)"
   ]
  },
  {
   "cell_type": "code",
   "execution_count": 6,
   "metadata": {},
   "outputs": [],
   "source": [
    "# definimos la regresión logistica\n",
    "log_reg_esta = LogisticRegression(n_jobs=-1, max_iter = 1000)\n",
    "\n",
    "# ajustamos el modelo\n",
    "log_reg_esta.fit(x_train1,y_train1)\n",
    "\n",
    "# obtenemos las predicciones para el conjunto de entrenamiento\n",
    "y_pred_train_esta = log_reg_esta.predict(x_train1)\n",
    "\n",
    "# obtenemos las predicciones para el conjunto de test\n",
    "y_pred_test_esta = log_reg_esta.predict(x_test1)"
   ]
  },
  {
   "cell_type": "code",
   "execution_count": 7,
   "metadata": {},
   "outputs": [
    {
     "data": {
      "image/png": "[encoded data removed]",
      "text/plain": [
       "<Figure size 1200x800 with 2 Axes>"
      ]
     },
     "metadata": {},
     "output_type": "display_data"
    }
   ],
   "source": [
    "# MATRIZ DE CONFUSIÓN PARA DATOS ESTANDARIZADOS\n",
    "\n",
    "mat_lr1 = confusion_matrix(y_test1, y_pred_test_esta)\n",
    "\n",
    "plt.figure(figsize = (12, 8))\n",
    "sns.heatmap(mat_lr1, square=True, annot=True, fmt=\"d\", cmap = \"viridis\")\n",
    "\n",
    "plt.xlabel('valor predicho')\n",
    "plt.ylabel('valor real')\n",
    "plt.show()"
   ]
  },
  {
   "attachments": {},
   "cell_type": "markdown",
   "metadata": {},
   "source": [
    "0 = NO ES FRAUDE\n",
    "1 = ES FRAUDE"
   ]
  },
  {
   "cell_type": "code",
   "execution_count": 16,
   "metadata": {},
   "outputs": [],
   "source": [
    "#Definimos la función para sacar las métricas de nuestro modelo\n",
    "def metricas(clases_reales_test, clases_predichas_test, clases_reales_train, clases_predichas_train, modelo):\n",
    "    \n",
    "    # para el test\n",
    "    accuracy_test = accuracy_score(clases_reales_test, clases_predichas_test)\n",
    "    precision_test = precision_score(clases_reales_test, clases_predichas_test)\n",
    "    recall_test = recall_score(clases_reales_test, clases_predichas_test)\n",
    "    f1_test = f1_score(clases_reales_test, clases_predichas_test)\n",
    "    kappa_test = cohen_kappa_score(clases_reales_test, clases_predichas_test)\n",
    "\n",
    "    # para el train\n",
    "    accuracy_train = accuracy_score(clases_reales_train, clases_predichas_train)\n",
    "    precision_train = precision_score(clases_reales_train, clases_predichas_train)\n",
    "    recall_train = recall_score(clases_reales_train, clases_predichas_train)\n",
    "    f1_train = f1_score(clases_reales_train, clases_predichas_train)\n",
    "    kappa_train = cohen_kappa_score(clases_reales_train, clases_predichas_train)\n",
    "     \n",
    "    df = pd.DataFrame({\"accuracy\": [accuracy_test, accuracy_train], \n",
    "                       \"precision\": [precision_test, precision_train],\n",
    "                       \"recall\": [recall_test, recall_train], \n",
    "                        \"f1\": [f1_test, f1_train],\n",
    "                       \"kappa\": [kappa_test, kappa_train],\n",
    "                       \"set\": [\"test\", \"train\"]})\n",
    "    \n",
    "    df[\"modelo\"] = modelo\n",
    "    return df"
   ]
  },
  {
   "cell_type": "code",
   "execution_count": 17,
   "metadata": {},
   "outputs": [
    {
     "data": {
      "text/html": [
       "<div>\n",
       "<style scoped>\n",
       "    .dataframe tbody tr th:only-of-type {\n",
       "        vertical-align: middle;\n",
       "    }\n",
       "\n",
       "    .dataframe tbody tr th {\n",
       "        vertical-align: top;\n",
       "    }\n",
       "\n",
       "    .dataframe thead th {\n",
       "        text-align: right;\n",
       "    }\n",
       "</style>\n",
       "<table border=\"1\" class=\"dataframe\">\n",
       "  <thead>\n",
       "    <tr style=\"text-align: right;\">\n",
       "      <th></th>\n",
       "      <th>accuracy</th>\n",
       "      <th>precision</th>\n",
       "      <th>recall</th>\n",
       "      <th>f1</th>\n",
       "      <th>kappa</th>\n",
       "      <th>set</th>\n",
       "      <th>modelo</th>\n",
       "    </tr>\n",
       "  </thead>\n",
       "  <tbody>\n",
       "    <tr>\n",
       "      <th>0</th>\n",
       "      <td>0.958645</td>\n",
       "      <td>0.891097</td>\n",
       "      <td>0.599037</td>\n",
       "      <td>0.716446</td>\n",
       "      <td>0.695063</td>\n",
       "      <td>test</td>\n",
       "      <td>Regresión logistica Estandarizados</td>\n",
       "    </tr>\n",
       "    <tr>\n",
       "      <th>1</th>\n",
       "      <td>0.958769</td>\n",
       "      <td>0.893075</td>\n",
       "      <td>0.600400</td>\n",
       "      <td>0.718060</td>\n",
       "      <td>0.696737</td>\n",
       "      <td>train</td>\n",
       "      <td>Regresión logistica Estandarizados</td>\n",
       "    </tr>\n",
       "  </tbody>\n",
       "</table>\n",
       "</div>"
      ],
      "text/plain": [
       "   accuracy  precision    recall        f1     kappa    set  \\\n",
       "0  0.958645   0.891097  0.599037  0.716446  0.695063   test   \n",
       "1  0.958769   0.893075  0.600400  0.718060  0.696737  train   \n",
       "\n",
       "                               modelo  \n",
       "0  Regresión logistica Estandarizados  \n",
       "1  Regresión logistica Estandarizados  "
      ]
     },
     "execution_count": 17,
     "metadata": {},
     "output_type": "execute_result"
    }
   ],
   "source": [
    "results_logistic_esta = metricas(y_test1, y_pred_test_esta, y_train1, y_pred_train_esta, \"Regresión logistica Estandarizados\")\n",
    "results_logistic_esta"
   ]
  },
  {
   "attachments": {},
   "cell_type": "markdown",
   "metadata": {},
   "source": [
    "En nuestro modelo lo que más nos interesa es medir los falsos negativos y minimizar los casos en los que nuestro modelo no detecta fraude pero en realidad si lo es.\n",
    "\n",
    "Para medir esto nos fijaremos en el recall, vemos que tiene un valor de 60%, es decir, nuestro modelo es capaz de detectar un 60% de los fraudes. Consideramos que podría mejorar ya que es un 40% de fallo.\n",
    "\n",
    "Por otro lado kappa es bastante alto, lo que nos indica que es una predicción fiable, es decir que no acierta por azar."
   ]
  },
  {
   "cell_type": "markdown",
   "metadata": {},
   "source": [
    "---\n",
    "\n",
    "### Datos estandarizados y balanceados\n",
    "\n",
    "---"
   ]
  },
  {
   "cell_type": "code",
   "execution_count": 18,
   "metadata": {},
   "outputs": [],
   "source": [
    "X2 = balanceado.drop(\"fraud\", axis = 1)\n",
    "y2 = balanceado[\"fraud\"]"
   ]
  },
  {
   "cell_type": "code",
   "execution_count": 19,
   "metadata": {},
   "outputs": [],
   "source": [
    "x_train2, x_test2, y_train2, y_test2 = train_test_split(X2, y2, test_size = 0.2, random_state = 42)"
   ]
  },
  {
   "cell_type": "code",
   "execution_count": 20,
   "metadata": {},
   "outputs": [],
   "source": [
    "# definimos la regresión logistica\n",
    "log_reg_bal = LogisticRegression(n_jobs=-1, max_iter = 1000)\n",
    "\n",
    "# ajustamos el modelo\n",
    "log_reg_bal.fit(x_train2,y_train2)\n",
    "\n",
    "# obtenemos las predicciones para el conjunto de entrenamiento\n",
    "y_pred_train_bal = log_reg_bal.predict(x_train2)\n",
    "\n",
    "# obtenemos las predicciones para el conjunto de test\n",
    "y_pred_test_bal = log_reg_bal.predict(x_test2)"
   ]
  },
  {
   "cell_type": "code",
   "execution_count": 22,
   "metadata": {},
   "outputs": [
    {
     "data": {
      "image/png": "[encoded data removed]",
      "text/plain": [
       "<Figure size 1200x800 with 2 Axes>"
      ]
     },
     "metadata": {},
     "output_type": "display_data"
    }
   ],
   "source": [
    "# MATRIZ DE CONFUSIÓN PARA DATOS ESTANDARIZADOS Y BALANCEADOS\n",
    "\n",
    "mat_lr2 = confusion_matrix(y_test2, y_pred_test_bal)\n",
    "\n",
    "plt.figure(figsize = (12, 8))\n",
    "sns.heatmap(mat_lr2, square=True, annot=True, fmt=\"d\", cmap = \"viridis\")\n",
    "\n",
    "plt.xlabel('valor predicho')\n",
    "plt.ylabel('valor real')\n",
    "plt.show()"
   ]
  },
  {
   "cell_type": "code",
   "execution_count": 24,
   "metadata": {},
   "outputs": [
    {
     "data": {
      "text/html": [
       "<div>\n",
       "<style scoped>\n",
       "    .dataframe tbody tr th:only-of-type {\n",
       "        vertical-align: middle;\n",
       "    }\n",
       "\n",
       "    .dataframe tbody tr th {\n",
       "        vertical-align: top;\n",
       "    }\n",
       "\n",
       "    .dataframe thead th {\n",
       "        text-align: right;\n",
       "    }\n",
       "</style>\n",
       "<table border=\"1\" class=\"dataframe\">\n",
       "  <thead>\n",
       "    <tr style=\"text-align: right;\">\n",
       "      <th></th>\n",
       "      <th>accuracy</th>\n",
       "      <th>precision</th>\n",
       "      <th>recall</th>\n",
       "      <th>f1</th>\n",
       "      <th>kappa</th>\n",
       "      <th>set</th>\n",
       "      <th>modelo</th>\n",
       "    </tr>\n",
       "  </thead>\n",
       "  <tbody>\n",
       "    <tr>\n",
       "      <th>0</th>\n",
       "      <td>0.936359</td>\n",
       "      <td>0.924831</td>\n",
       "      <td>0.924442</td>\n",
       "      <td>0.924636</td>\n",
       "      <td>0.869562</td>\n",
       "      <td>test</td>\n",
       "      <td>Regresión logistica Balanceados</td>\n",
       "    </tr>\n",
       "    <tr>\n",
       "      <th>1</th>\n",
       "      <td>0.936182</td>\n",
       "      <td>0.923909</td>\n",
       "      <td>0.924610</td>\n",
       "      <td>0.924259</td>\n",
       "      <td>0.869121</td>\n",
       "      <td>train</td>\n",
       "      <td>Regresión logistica Balanceados</td>\n",
       "    </tr>\n",
       "  </tbody>\n",
       "</table>\n",
       "</div>"
      ],
      "text/plain": [
       "   accuracy  precision    recall        f1     kappa    set  \\\n",
       "0  0.936359   0.924831  0.924442  0.924636  0.869562   test   \n",
       "1  0.936182   0.923909  0.924610  0.924259  0.869121  train   \n",
       "\n",
       "                            modelo  \n",
       "0  Regresión logistica Balanceados  \n",
       "1  Regresión logistica Balanceados  "
      ]
     },
     "execution_count": 24,
     "metadata": {},
     "output_type": "execute_result"
    }
   ],
   "source": [
    "results_logistic_bal = metricas(y_test2, y_pred_test_bal, y_train2, y_pred_train_bal, \"Regresión logistica Balanceados\")\n",
    "results_logistic_bal"
   ]
  },
  {
   "attachments": {},
   "cell_type": "markdown",
   "metadata": {},
   "source": [
    "Con los datos balanceados podemos ver que nuestro modelo es mucho mejor. \n",
    "\n",
    "El recall aumenta hasta un 92%, con lo cual el fallo es muy bajo en la detección de falsos negativos.\n",
    "\n",
    "El kappa igualmente es muy alto, casi del 90%, con lo cual es muy fiable el modelo."
   ]
  },
  {
   "cell_type": "code",
   "execution_count": 25,
   "metadata": {},
   "outputs": [
    {
     "data": {
      "text/html": [
       "<div>\n",
       "<style scoped>\n",
       "    .dataframe tbody tr th:only-of-type {\n",
       "        vertical-align: middle;\n",
       "    }\n",
       "\n",
       "    .dataframe tbody tr th {\n",
       "        vertical-align: top;\n",
       "    }\n",
       "\n",
       "    .dataframe thead th {\n",
       "        text-align: right;\n",
       "    }\n",
       "</style>\n",
       "<table border=\"1\" class=\"dataframe\">\n",
       "  <thead>\n",
       "    <tr style=\"text-align: right;\">\n",
       "      <th></th>\n",
       "      <th>accuracy</th>\n",
       "      <th>precision</th>\n",
       "      <th>recall</th>\n",
       "      <th>f1</th>\n",
       "      <th>kappa</th>\n",
       "      <th>set</th>\n",
       "      <th>modelo</th>\n",
       "    </tr>\n",
       "  </thead>\n",
       "  <tbody>\n",
       "    <tr>\n",
       "      <th>0</th>\n",
       "      <td>0.958645</td>\n",
       "      <td>0.891097</td>\n",
       "      <td>0.599037</td>\n",
       "      <td>0.716446</td>\n",
       "      <td>0.695063</td>\n",
       "      <td>test</td>\n",
       "      <td>Regresión logistica Estandarizados</td>\n",
       "    </tr>\n",
       "    <tr>\n",
       "      <th>1</th>\n",
       "      <td>0.958769</td>\n",
       "      <td>0.893075</td>\n",
       "      <td>0.600400</td>\n",
       "      <td>0.718060</td>\n",
       "      <td>0.696737</td>\n",
       "      <td>train</td>\n",
       "      <td>Regresión logistica Estandarizados</td>\n",
       "    </tr>\n",
       "    <tr>\n",
       "      <th>0</th>\n",
       "      <td>0.936359</td>\n",
       "      <td>0.924831</td>\n",
       "      <td>0.924442</td>\n",
       "      <td>0.924636</td>\n",
       "      <td>0.869562</td>\n",
       "      <td>test</td>\n",
       "      <td>Regresión logistica Balanceados</td>\n",
       "    </tr>\n",
       "    <tr>\n",
       "      <th>1</th>\n",
       "      <td>0.936182</td>\n",
       "      <td>0.923909</td>\n",
       "      <td>0.924610</td>\n",
       "      <td>0.924259</td>\n",
       "      <td>0.869121</td>\n",
       "      <td>train</td>\n",
       "      <td>Regresión logistica Balanceados</td>\n",
       "    </tr>\n",
       "  </tbody>\n",
       "</table>\n",
       "</div>"
      ],
      "text/plain": [
       "   accuracy  precision    recall        f1     kappa    set  \\\n",
       "0  0.958645   0.891097  0.599037  0.716446  0.695063   test   \n",
       "1  0.958769   0.893075  0.600400  0.718060  0.696737  train   \n",
       "0  0.936359   0.924831  0.924442  0.924636  0.869562   test   \n",
       "1  0.936182   0.923909  0.924610  0.924259  0.869121  train   \n",
       "\n",
       "                               modelo  \n",
       "0  Regresión logistica Estandarizados  \n",
       "1  Regresión logistica Estandarizados  \n",
       "0     Regresión logistica Balanceados  \n",
       "1     Regresión logistica Balanceados  "
      ]
     },
     "execution_count": 25,
     "metadata": {},
     "output_type": "execute_result"
    }
   ],
   "source": [
    "resultados_todo = pd.concat([results_logistic_esta, results_logistic_bal], axis = 0) #Unimos los resultados del modelo con ambos tipos de datos\n",
    "resultados_todo"
   ]
  },
  {
   "cell_type": "markdown",
   "metadata": {},
   "source": [
    "Al final decidimos quedarnos con los balanceado porque todos los resultados son muchos mejores de los del Estandarizados."
   ]
  },
  {
   "cell_type": "code",
   "execution_count": 26,
   "metadata": {},
   "outputs": [],
   "source": [
    "#Guardamos los resultados para futuras comparaciones\n",
    "resultados_todo.to_csv(\"../datos/resultados_fraude.csv\")"
   ]
  }
 ],
 "metadata": {
  "kernelspec": {
   "display_name": "Python 3.8.2 64-bit",
   "language": "python",
   "name": "python3"
  },
  "language_info": {
   "codemirror_mode": {
    "name": "ipython",
    "version": 3
   },
   "file_extension": ".py",
   "mimetype": "text/x-python",
   "name": "python",
   "nbconvert_exporter": "python",
   "pygments_lexer": "ipython3",
   "version": "3.6.9 (default, Jun 29 2022, 11:45:57) \n[GCC 8.4.0]"
  },
  "orig_nbformat": 4,
  "vscode": {
   "interpreter": {
    "hash": "31f2aee4e71d21fbe5cf8b01ff0e069b9275f58929596ceb00d14d90e3e16cd6"
   }
  }
 },
 "nbformat": 4,
 "nbformat_minor": 2
}
