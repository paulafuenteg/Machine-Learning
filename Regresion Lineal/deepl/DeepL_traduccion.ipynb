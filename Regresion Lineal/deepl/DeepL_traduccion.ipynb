{
 "cells": [
  {
   "cell_type": "markdown",
   "metadata": {},
   "source": [
    "# Traducción columna *Region* - Libreria **deepL**\n",
    "\n",
    "### Importamos la libreria **deepL** utilizando la *auth_key*\n",
    "\n",
    "\n",
    "Enlace con toda la info\n",
    "https://github.com/DeepLcom/deepl-python"
   ]
  },
  {
   "cell_type": "code",
   "execution_count": 2,
   "metadata": {},
   "outputs": [
    {
     "data": {
      "text/plain": [
       "True"
      ]
     },
     "execution_count": 2,
     "metadata": {},
     "output_type": "execute_result"
    }
   ],
   "source": [
    "import deepl\n",
    "\n",
    "import pandas as pd\n",
    "import numpy as np\n",
    "import re\n",
    "\n",
    "import os\n",
    "from dotenv import load_dotenv\n",
    "load_dotenv()"
   ]
  },
  {
   "cell_type": "code",
   "execution_count": 3,
   "metadata": {},
   "outputs": [],
   "source": [
    "auth_key = os.getenv(\"auth_key\")"
   ]
  },
  {
   "cell_type": "code",
   "execution_count": 4,
   "metadata": {},
   "outputs": [],
   "source": [
    "translator = deepl.Translator(auth_key)"
   ]
  },
  {
   "cell_type": "code",
   "execution_count": 5,
   "metadata": {},
   "outputs": [],
   "source": [
    "pd.options.display.max_columns = None"
   ]
  },
  {
   "cell_type": "markdown",
   "metadata": {},
   "source": [
    "Utilizamos una copia del fichero original."
   ]
  },
  {
   "cell_type": "code",
   "execution_count": 6,
   "metadata": {},
   "outputs": [],
   "source": [
    "df = pd.read_csv(\"world_risk_index copy.csv\")"
   ]
  },
  {
   "cell_type": "code",
   "execution_count": 7,
   "metadata": {},
   "outputs": [
    {
     "data": {
      "text/html": [
       "<div>\n",
       "<style scoped>\n",
       "    .dataframe tbody tr th:only-of-type {\n",
       "        vertical-align: middle;\n",
       "    }\n",
       "\n",
       "    .dataframe tbody tr th {\n",
       "        vertical-align: top;\n",
       "    }\n",
       "\n",
       "    .dataframe thead th {\n",
       "        text-align: right;\n",
       "    }\n",
       "</style>\n",
       "<table border=\"1\" class=\"dataframe\">\n",
       "  <thead>\n",
       "    <tr style=\"text-align: right;\">\n",
       "      <th></th>\n",
       "      <th>Region</th>\n",
       "      <th>WRI</th>\n",
       "      <th>Exposure</th>\n",
       "      <th>Vulnerability</th>\n",
       "      <th>Susceptibility</th>\n",
       "      <th>Lack of Coping Capabilities</th>\n",
       "      <th>Lack of Adaptive Capacities</th>\n",
       "      <th>Year</th>\n",
       "      <th>Exposure Category</th>\n",
       "      <th>WRI Category</th>\n",
       "      <th>Vulnerability Category</th>\n",
       "      <th>Susceptibility Category</th>\n",
       "    </tr>\n",
       "  </thead>\n",
       "  <tbody>\n",
       "    <tr>\n",
       "      <th>0</th>\n",
       "      <td>Vanuatu</td>\n",
       "      <td>32.00</td>\n",
       "      <td>56.33</td>\n",
       "      <td>56.81</td>\n",
       "      <td>37.14</td>\n",
       "      <td>79.34</td>\n",
       "      <td>53.96</td>\n",
       "      <td>2011</td>\n",
       "      <td>Very High</td>\n",
       "      <td>Very High</td>\n",
       "      <td>High</td>\n",
       "      <td>High</td>\n",
       "    </tr>\n",
       "    <tr>\n",
       "      <th>1</th>\n",
       "      <td>Tonga</td>\n",
       "      <td>29.08</td>\n",
       "      <td>56.04</td>\n",
       "      <td>51.90</td>\n",
       "      <td>28.94</td>\n",
       "      <td>81.80</td>\n",
       "      <td>44.97</td>\n",
       "      <td>2011</td>\n",
       "      <td>Very High</td>\n",
       "      <td>Very High</td>\n",
       "      <td>Medium</td>\n",
       "      <td>Medium</td>\n",
       "    </tr>\n",
       "  </tbody>\n",
       "</table>\n",
       "</div>"
      ],
      "text/plain": [
       "    Region    WRI  Exposure  Vulnerability  Susceptibility  \\\n",
       "0  Vanuatu  32.00     56.33          56.81           37.14   \n",
       "1    Tonga  29.08     56.04          51.90           28.94   \n",
       "\n",
       "   Lack of Coping Capabilities   Lack of Adaptive Capacities  Year  \\\n",
       "0                        79.34                         53.96  2011   \n",
       "1                        81.80                         44.97  2011   \n",
       "\n",
       "  Exposure Category WRI Category Vulnerability Category  \\\n",
       "0         Very High    Very High                   High   \n",
       "1         Very High    Very High                 Medium   \n",
       "\n",
       "  Susceptibility Category  \n",
       "0                    High  \n",
       "1                  Medium  "
      ]
     },
     "execution_count": 7,
     "metadata": {},
     "output_type": "execute_result"
    }
   ],
   "source": [
    "df.head(2)"
   ]
  },
  {
   "cell_type": "markdown",
   "metadata": {},
   "source": [
    "Calculamos el numero de digitos/letras que tenemos en la columna *Region* porque **deepL** nos permite traducir\n",
    "un maximo de 500.000 caracteres al mes."
   ]
  },
  {
   "cell_type": "code",
   "execution_count": 8,
   "metadata": {},
   "outputs": [],
   "source": [
    "lista_region = []\n",
    "\n",
    "for i in df[\"Region\"]:\n",
    "    lista_region.append(i)"
   ]
  },
  {
   "cell_type": "code",
   "execution_count": 9,
   "metadata": {},
   "outputs": [],
   "source": [
    "lista_region_string = \",\".join(map(str,[lista_region]))"
   ]
  },
  {
   "cell_type": "code",
   "execution_count": 10,
   "metadata": {},
   "outputs": [
    {
     "name": "stdout",
     "output_type": "stream",
     "text": [
      "El total de las leteras en la columnas Region es de 16359\n"
     ]
    }
   ],
   "source": [
    "total_letters = len(re.findall('[A-z]', lista_region_string))\n",
    "    # iterate through all characters\n",
    "print(f\"El total de las leteras en la columnas Region es de {total_letters}\")"
   ]
  },
  {
   "cell_type": "markdown",
   "metadata": {},
   "source": [
    "--------------------------------------"
   ]
  },
  {
   "cell_type": "code",
   "execution_count": 11,
   "metadata": {},
   "outputs": [
    {
     "name": "stdout",
     "output_type": "stream",
     "text": [
      "El numero inicial de paises unicos es de 306\n"
     ]
    }
   ],
   "source": [
    "#calculo el numero de unique para paragonarlo al traducido y al limpiado\n",
    "region_unique = df[\"Region\"].describe()[1]\n",
    "print(f\"El numero inicial de paises unicos es de {region_unique}\")"
   ]
  },
  {
   "cell_type": "markdown",
   "metadata": {},
   "source": [
    "-------------------------------"
   ]
  },
  {
   "cell_type": "markdown",
   "metadata": {},
   "source": [
    "Formula para traducir los paises en la columna *Region*"
   ]
  },
  {
   "cell_type": "code",
   "execution_count": 12,
   "metadata": {},
   "outputs": [],
   "source": [
    "def traducir(columna):\n",
    "        columna = columna.lower()\n",
    "        english = translator.translate_text(columna, target_lang = \"EN-GB\")\n",
    "        return english"
   ]
  },
  {
   "cell_type": "markdown",
   "metadata": {},
   "source": [
    "----------------"
   ]
  },
  {
   "cell_type": "code",
   "execution_count": 13,
   "metadata": {},
   "outputs": [
    {
     "data": {
      "text/plain": [
       "(10, 12)"
      ]
     },
     "execution_count": 13,
     "metadata": {},
     "output_type": "execute_result"
    }
   ],
   "source": [
    "#dataframe para testar la traducion\n",
    "df_test = df.sample(10)\n",
    "df_test.shape\n"
   ]
  },
  {
   "cell_type": "code",
   "execution_count": 14,
   "metadata": {},
   "outputs": [
    {
     "data": {
      "text/html": [
       "<div>\n",
       "<style scoped>\n",
       "    .dataframe tbody tr th:only-of-type {\n",
       "        vertical-align: middle;\n",
       "    }\n",
       "\n",
       "    .dataframe tbody tr th {\n",
       "        vertical-align: top;\n",
       "    }\n",
       "\n",
       "    .dataframe thead th {\n",
       "        text-align: right;\n",
       "    }\n",
       "</style>\n",
       "<table border=\"1\" class=\"dataframe\">\n",
       "  <thead>\n",
       "    <tr style=\"text-align: right;\">\n",
       "      <th></th>\n",
       "      <th>Region</th>\n",
       "      <th>WRI</th>\n",
       "      <th>Exposure</th>\n",
       "      <th>Vulnerability</th>\n",
       "      <th>Susceptibility</th>\n",
       "      <th>Lack of Coping Capabilities</th>\n",
       "      <th>Lack of Adaptive Capacities</th>\n",
       "      <th>Year</th>\n",
       "      <th>Exposure Category</th>\n",
       "      <th>WRI Category</th>\n",
       "      <th>Vulnerability Category</th>\n",
       "      <th>Susceptibility Category</th>\n",
       "      <th>region_lower</th>\n",
       "    </tr>\n",
       "  </thead>\n",
       "  <tbody>\n",
       "    <tr>\n",
       "      <th>595</th>\n",
       "      <td>Colombia</td>\n",
       "      <td>6.83</td>\n",
       "      <td>13.84</td>\n",
       "      <td>49.34</td>\n",
       "      <td>28.82</td>\n",
       "      <td>75.11</td>\n",
       "      <td>44.07</td>\n",
       "      <td>2014</td>\n",
       "      <td>Medium</td>\n",
       "      <td>Medium</td>\n",
       "      <td>Medium</td>\n",
       "      <td>Medium</td>\n",
       "      <td>colombia</td>\n",
       "    </tr>\n",
       "    <tr>\n",
       "      <th>511</th>\n",
       "      <td>Island</td>\n",
       "      <td>1.55</td>\n",
       "      <td>5.67</td>\n",
       "      <td>27.34</td>\n",
       "      <td>14.74</td>\n",
       "      <td>43.16</td>\n",
       "      <td>24.11</td>\n",
       "      <td>2015</td>\n",
       "      <td>Very Low</td>\n",
       "      <td>Very Low</td>\n",
       "      <td>Very Low</td>\n",
       "      <td>Very Low</td>\n",
       "      <td>island</td>\n",
       "    </tr>\n",
       "    <tr>\n",
       "      <th>748</th>\n",
       "      <td>Albanien</td>\n",
       "      <td>8.23</td>\n",
       "      <td>19.77</td>\n",
       "      <td>41.63</td>\n",
       "      <td>20.10</td>\n",
       "      <td>74.77</td>\n",
       "      <td>30.03</td>\n",
       "      <td>2021</td>\n",
       "      <td>Very High</td>\n",
       "      <td>High</td>\n",
       "      <td>Low</td>\n",
       "      <td>Low</td>\n",
       "      <td>albanien</td>\n",
       "    </tr>\n",
       "    <tr>\n",
       "      <th>1133</th>\n",
       "      <td>Samoa</td>\n",
       "      <td>6.19</td>\n",
       "      <td>13.04</td>\n",
       "      <td>47.50</td>\n",
       "      <td>25.52</td>\n",
       "      <td>79.70</td>\n",
       "      <td>37.27</td>\n",
       "      <td>2019</td>\n",
       "      <td>Medium</td>\n",
       "      <td>Medium</td>\n",
       "      <td>Medium</td>\n",
       "      <td>Medium</td>\n",
       "      <td>samoa</td>\n",
       "    </tr>\n",
       "    <tr>\n",
       "      <th>133</th>\n",
       "      <td>Kroatien</td>\n",
       "      <td>3.71</td>\n",
       "      <td>11.17</td>\n",
       "      <td>33.22</td>\n",
       "      <td>16.63</td>\n",
       "      <td>50.69</td>\n",
       "      <td>32.35</td>\n",
       "      <td>2011</td>\n",
       "      <td>Low</td>\n",
       "      <td>Low</td>\n",
       "      <td>Very Low</td>\n",
       "      <td>Low</td>\n",
       "      <td>croatia</td>\n",
       "    </tr>\n",
       "    <tr>\n",
       "      <th>1443</th>\n",
       "      <td>Mosambik</td>\n",
       "      <td>9.09</td>\n",
       "      <td>12.73</td>\n",
       "      <td>71.37</td>\n",
       "      <td>67.63</td>\n",
       "      <td>84.91</td>\n",
       "      <td>61.58</td>\n",
       "      <td>2012</td>\n",
       "      <td>Medium</td>\n",
       "      <td>High</td>\n",
       "      <td>Very High</td>\n",
       "      <td>Very High</td>\n",
       "      <td>mosambik</td>\n",
       "    </tr>\n",
       "    <tr>\n",
       "      <th>1109</th>\n",
       "      <td>Algerien</td>\n",
       "      <td>7.66</td>\n",
       "      <td>16.76</td>\n",
       "      <td>45.71</td>\n",
       "      <td>20.88</td>\n",
       "      <td>78.35</td>\n",
       "      <td>37.89</td>\n",
       "      <td>2019</td>\n",
       "      <td>High</td>\n",
       "      <td>High</td>\n",
       "      <td>Medium</td>\n",
       "      <td>Medium</td>\n",
       "      <td>Algeria</td>\n",
       "    </tr>\n",
       "    <tr>\n",
       "      <th>10</th>\n",
       "      <td>Nicaragua</td>\n",
       "      <td>15.74</td>\n",
       "      <td>27.64</td>\n",
       "      <td>56.94</td>\n",
       "      <td>41.23</td>\n",
       "      <td>83.00</td>\n",
       "      <td>46.59</td>\n",
       "      <td>2011</td>\n",
       "      <td>Very High</td>\n",
       "      <td>Very High</td>\n",
       "      <td>High</td>\n",
       "      <td>High</td>\n",
       "      <td>nicaragua</td>\n",
       "    </tr>\n",
       "    <tr>\n",
       "      <th>698</th>\n",
       "      <td>Kap Verde</td>\n",
       "      <td>17.72</td>\n",
       "      <td>37.23</td>\n",
       "      <td>47.59</td>\n",
       "      <td>28.86</td>\n",
       "      <td>72.71</td>\n",
       "      <td>41.21</td>\n",
       "      <td>2021</td>\n",
       "      <td>Very High</td>\n",
       "      <td>Very High</td>\n",
       "      <td>Medium</td>\n",
       "      <td>High</td>\n",
       "      <td>cap verde</td>\n",
       "    </tr>\n",
       "    <tr>\n",
       "      <th>22</th>\n",
       "      <td>Honduras</td>\n",
       "      <td>12.10</td>\n",
       "      <td>21.81</td>\n",
       "      <td>55.50</td>\n",
       "      <td>37.61</td>\n",
       "      <td>80.03</td>\n",
       "      <td>48.85</td>\n",
       "      <td>2011</td>\n",
       "      <td>Very High</td>\n",
       "      <td>Very High</td>\n",
       "      <td>High</td>\n",
       "      <td>High</td>\n",
       "      <td>honduras</td>\n",
       "    </tr>\n",
       "  </tbody>\n",
       "</table>\n",
       "</div>"
      ],
      "text/plain": [
       "         Region    WRI  Exposure  Vulnerability  Susceptibility  \\\n",
       "595    Colombia   6.83     13.84          49.34           28.82   \n",
       "511      Island   1.55      5.67          27.34           14.74   \n",
       "748    Albanien   8.23     19.77          41.63           20.10   \n",
       "1133      Samoa   6.19     13.04          47.50           25.52   \n",
       "133    Kroatien   3.71     11.17          33.22           16.63   \n",
       "1443   Mosambik   9.09     12.73          71.37           67.63   \n",
       "1109   Algerien   7.66     16.76          45.71           20.88   \n",
       "10    Nicaragua  15.74     27.64          56.94           41.23   \n",
       "698   Kap Verde  17.72     37.23          47.59           28.86   \n",
       "22     Honduras  12.10     21.81          55.50           37.61   \n",
       "\n",
       "      Lack of Coping Capabilities   Lack of Adaptive Capacities  Year  \\\n",
       "595                         75.11                         44.07  2014   \n",
       "511                         43.16                         24.11  2015   \n",
       "748                         74.77                         30.03  2021   \n",
       "1133                        79.70                         37.27  2019   \n",
       "133                         50.69                         32.35  2011   \n",
       "1443                        84.91                         61.58  2012   \n",
       "1109                        78.35                         37.89  2019   \n",
       "10                          83.00                         46.59  2011   \n",
       "698                         72.71                         41.21  2021   \n",
       "22                          80.03                         48.85  2011   \n",
       "\n",
       "     Exposure Category WRI Category Vulnerability Category  \\\n",
       "595             Medium       Medium                 Medium   \n",
       "511           Very Low     Very Low               Very Low   \n",
       "748          Very High         High                    Low   \n",
       "1133            Medium       Medium                 Medium   \n",
       "133                Low          Low               Very Low   \n",
       "1443            Medium         High              Very High   \n",
       "1109              High         High                 Medium   \n",
       "10           Very High    Very High                   High   \n",
       "698          Very High    Very High                 Medium   \n",
       "22           Very High    Very High                   High   \n",
       "\n",
       "     Susceptibility Category region_lower  \n",
       "595                   Medium     colombia  \n",
       "511                 Very Low       island  \n",
       "748                      Low     albanien  \n",
       "1133                  Medium        samoa  \n",
       "133                      Low      croatia  \n",
       "1443               Very High     mosambik  \n",
       "1109                  Medium      Algeria  \n",
       "10                      High    nicaragua  \n",
       "698                     High    cap verde  \n",
       "22                      High     honduras  "
      ]
     },
     "execution_count": 14,
     "metadata": {},
     "output_type": "execute_result"
    }
   ],
   "source": [
    "df_test[\"region_lower\"] = df_test[\"Region\"].apply(traducir)\n",
    "df_test"
   ]
  },
  {
   "cell_type": "code",
   "execution_count": 15,
   "metadata": {},
   "outputs": [
    {
     "data": {
      "text/html": [
       "<div>\n",
       "<style scoped>\n",
       "    .dataframe tbody tr th:only-of-type {\n",
       "        vertical-align: middle;\n",
       "    }\n",
       "\n",
       "    .dataframe tbody tr th {\n",
       "        vertical-align: top;\n",
       "    }\n",
       "\n",
       "    .dataframe thead th {\n",
       "        text-align: right;\n",
       "    }\n",
       "</style>\n",
       "<table border=\"1\" class=\"dataframe\">\n",
       "  <thead>\n",
       "    <tr style=\"text-align: right;\">\n",
       "      <th></th>\n",
       "      <th>Region</th>\n",
       "      <th>WRI</th>\n",
       "      <th>Exposure</th>\n",
       "      <th>Vulnerability</th>\n",
       "      <th>Susceptibility</th>\n",
       "      <th>Lack of Coping Capabilities</th>\n",
       "      <th>Lack of Adaptive Capacities</th>\n",
       "      <th>Year</th>\n",
       "      <th>Exposure Category</th>\n",
       "      <th>WRI Category</th>\n",
       "      <th>Vulnerability Category</th>\n",
       "      <th>Susceptibility Category</th>\n",
       "      <th>region_lower</th>\n",
       "    </tr>\n",
       "  </thead>\n",
       "  <tbody>\n",
       "  </tbody>\n",
       "</table>\n",
       "</div>"
      ],
      "text/plain": [
       "Empty DataFrame\n",
       "Columns: [Region, WRI, Exposure, Vulnerability, Susceptibility, Lack of Coping Capabilities,  Lack of Adaptive Capacities, Year, Exposure Category, WRI Category, Vulnerability Category, Susceptibility Category, region_lower]\n",
       "Index: []"
      ]
     },
     "execution_count": 15,
     "metadata": {},
     "output_type": "execute_result"
    }
   ],
   "source": [
    "malawi = df_test[df_test[\"region_lower\"] == \"colombia\"]\n",
    "malawi"
   ]
  },
  {
   "cell_type": "code",
   "execution_count": 16,
   "metadata": {},
   "outputs": [],
   "source": [
    "def quitar_espacios_lower(columna):\n",
    "        columna = str(columna)\n",
    "        columna = columna.strip().lower()\n",
    "        return columna"
   ]
  },
  {
   "cell_type": "code",
   "execution_count": 17,
   "metadata": {},
   "outputs": [],
   "source": [
    "df_test[\"region_lower\"] = df_test[\"region_lower\"].apply(quitar_espacios_lower)"
   ]
  },
  {
   "cell_type": "code",
   "execution_count": 18,
   "metadata": {},
   "outputs": [
    {
     "data": {
      "text/html": [
       "<div>\n",
       "<style scoped>\n",
       "    .dataframe tbody tr th:only-of-type {\n",
       "        vertical-align: middle;\n",
       "    }\n",
       "\n",
       "    .dataframe tbody tr th {\n",
       "        vertical-align: top;\n",
       "    }\n",
       "\n",
       "    .dataframe thead th {\n",
       "        text-align: right;\n",
       "    }\n",
       "</style>\n",
       "<table border=\"1\" class=\"dataframe\">\n",
       "  <thead>\n",
       "    <tr style=\"text-align: right;\">\n",
       "      <th></th>\n",
       "      <th>Region</th>\n",
       "      <th>WRI</th>\n",
       "      <th>Exposure</th>\n",
       "      <th>Vulnerability</th>\n",
       "      <th>Susceptibility</th>\n",
       "      <th>Lack of Coping Capabilities</th>\n",
       "      <th>Lack of Adaptive Capacities</th>\n",
       "      <th>Year</th>\n",
       "      <th>Exposure Category</th>\n",
       "      <th>WRI Category</th>\n",
       "      <th>Vulnerability Category</th>\n",
       "      <th>Susceptibility Category</th>\n",
       "      <th>region_lower</th>\n",
       "    </tr>\n",
       "  </thead>\n",
       "  <tbody>\n",
       "    <tr>\n",
       "      <th>595</th>\n",
       "      <td>Colombia</td>\n",
       "      <td>6.83</td>\n",
       "      <td>13.84</td>\n",
       "      <td>49.34</td>\n",
       "      <td>28.82</td>\n",
       "      <td>75.11</td>\n",
       "      <td>44.07</td>\n",
       "      <td>2014</td>\n",
       "      <td>Medium</td>\n",
       "      <td>Medium</td>\n",
       "      <td>Medium</td>\n",
       "      <td>Medium</td>\n",
       "      <td>colombia</td>\n",
       "    </tr>\n",
       "  </tbody>\n",
       "</table>\n",
       "</div>"
      ],
      "text/plain": [
       "       Region   WRI  Exposure  Vulnerability  Susceptibility  \\\n",
       "595  Colombia  6.83     13.84          49.34           28.82   \n",
       "\n",
       "     Lack of Coping Capabilities   Lack of Adaptive Capacities  Year  \\\n",
       "595                        75.11                         44.07  2014   \n",
       "\n",
       "    Exposure Category WRI Category Vulnerability Category  \\\n",
       "595            Medium       Medium                 Medium   \n",
       "\n",
       "    Susceptibility Category region_lower  \n",
       "595                  Medium     colombia  "
      ]
     },
     "execution_count": 18,
     "metadata": {},
     "output_type": "execute_result"
    }
   ],
   "source": [
    "malawi = df_test[df_test[\"region_lower\"] == \"colombia\"]\n",
    "malawi"
   ]
  },
  {
   "cell_type": "markdown",
   "metadata": {},
   "source": [
    "----------------------------------------------------------"
   ]
  },
  {
   "cell_type": "markdown",
   "metadata": {},
   "source": [
    "# Traducción del entero *DataFrame*"
   ]
  },
  {
   "cell_type": "code",
   "execution_count": 19,
   "metadata": {},
   "outputs": [],
   "source": [
    "df[\"countries\"] = df[\"Region\"].apply(traducir)"
   ]
  },
  {
   "cell_type": "code",
   "execution_count": 21,
   "metadata": {},
   "outputs": [
    {
     "data": {
      "text/html": [
       "<div>\n",
       "<style scoped>\n",
       "    .dataframe tbody tr th:only-of-type {\n",
       "        vertical-align: middle;\n",
       "    }\n",
       "\n",
       "    .dataframe tbody tr th {\n",
       "        vertical-align: top;\n",
       "    }\n",
       "\n",
       "    .dataframe thead th {\n",
       "        text-align: right;\n",
       "    }\n",
       "</style>\n",
       "<table border=\"1\" class=\"dataframe\">\n",
       "  <thead>\n",
       "    <tr style=\"text-align: right;\">\n",
       "      <th></th>\n",
       "      <th>Region</th>\n",
       "      <th>WRI</th>\n",
       "      <th>Exposure</th>\n",
       "      <th>Vulnerability</th>\n",
       "      <th>Susceptibility</th>\n",
       "      <th>Lack of Coping Capabilities</th>\n",
       "      <th>Lack of Adaptive Capacities</th>\n",
       "      <th>Year</th>\n",
       "      <th>Exposure Category</th>\n",
       "      <th>WRI Category</th>\n",
       "      <th>Vulnerability Category</th>\n",
       "      <th>Susceptibility Category</th>\n",
       "      <th>countries</th>\n",
       "    </tr>\n",
       "  </thead>\n",
       "  <tbody>\n",
       "    <tr>\n",
       "      <th>1475</th>\n",
       "      <td>Lesotho</td>\n",
       "      <td>7.22</td>\n",
       "      <td>11.40</td>\n",
       "      <td>63.33</td>\n",
       "      <td>50.87</td>\n",
       "      <td>81.83</td>\n",
       "      <td>57.30</td>\n",
       "      <td>2012</td>\n",
       "      <td>Low</td>\n",
       "      <td>Medium</td>\n",
       "      <td>High</td>\n",
       "      <td>Very High</td>\n",
       "      <td>lesotho</td>\n",
       "    </tr>\n",
       "    <tr>\n",
       "      <th>442</th>\n",
       "      <td>Jemen</td>\n",
       "      <td>6.00</td>\n",
       "      <td>9.04</td>\n",
       "      <td>66.32</td>\n",
       "      <td>44.57</td>\n",
       "      <td>90.51</td>\n",
       "      <td>63.89</td>\n",
       "      <td>2015</td>\n",
       "      <td>Very Low</td>\n",
       "      <td>Medium</td>\n",
       "      <td>Very High</td>\n",
       "      <td>High</td>\n",
       "      <td>Yemen</td>\n",
       "    </tr>\n",
       "    <tr>\n",
       "      <th>883</th>\n",
       "      <td>Fidschi</td>\n",
       "      <td>13.50</td>\n",
       "      <td>27.71</td>\n",
       "      <td>48.74</td>\n",
       "      <td>25.34</td>\n",
       "      <td>75.17</td>\n",
       "      <td>45.72</td>\n",
       "      <td>2017</td>\n",
       "      <td>Very High</td>\n",
       "      <td>Very High</td>\n",
       "      <td>Medium</td>\n",
       "      <td>Medium</td>\n",
       "      <td>fiji</td>\n",
       "    </tr>\n",
       "    <tr>\n",
       "      <th>500</th>\n",
       "      <td>Schweiz</td>\n",
       "      <td>2.46</td>\n",
       "      <td>9.56</td>\n",
       "      <td>25.73</td>\n",
       "      <td>14.57</td>\n",
       "      <td>37.78</td>\n",
       "      <td>24.84</td>\n",
       "      <td>2015</td>\n",
       "      <td>Low</td>\n",
       "      <td>Very Low</td>\n",
       "      <td>Very Low</td>\n",
       "      <td>Very Low</td>\n",
       "      <td>switzerland</td>\n",
       "    </tr>\n",
       "    <tr>\n",
       "      <th>1517</th>\n",
       "      <td>Australien</td>\n",
       "      <td>4.57</td>\n",
       "      <td>15.05</td>\n",
       "      <td>30.38</td>\n",
       "      <td>14.39</td>\n",
       "      <td>41.87</td>\n",
       "      <td>34.88</td>\n",
       "      <td>2012</td>\n",
       "      <td>High</td>\n",
       "      <td>Low</td>\n",
       "      <td>Very Low</td>\n",
       "      <td>Very Low</td>\n",
       "      <td>Australian</td>\n",
       "    </tr>\n",
       "    <tr>\n",
       "      <th>1731</th>\n",
       "      <td>Singapur</td>\n",
       "      <td>2.31</td>\n",
       "      <td>8.56</td>\n",
       "      <td>26.98</td>\n",
       "      <td>11.89</td>\n",
       "      <td>47.73</td>\n",
       "      <td>21.31</td>\n",
       "      <td>2018</td>\n",
       "      <td>Very Low</td>\n",
       "      <td>Very Low</td>\n",
       "      <td>Very Low</td>\n",
       "      <td>Very Low</td>\n",
       "      <td>Singapore</td>\n",
       "    </tr>\n",
       "    <tr>\n",
       "      <th>957</th>\n",
       "      <td>Malaysia</td>\n",
       "      <td>6.47</td>\n",
       "      <td>14.60</td>\n",
       "      <td>44.27</td>\n",
       "      <td>19.85</td>\n",
       "      <td>68.17</td>\n",
       "      <td>44.80</td>\n",
       "      <td>2017</td>\n",
       "      <td>High</td>\n",
       "      <td>Medium</td>\n",
       "      <td>Low</td>\n",
       "      <td>Low</td>\n",
       "      <td>malaysia</td>\n",
       "    </tr>\n",
       "    <tr>\n",
       "      <th>484</th>\n",
       "      <td>Polen</td>\n",
       "      <td>3.27</td>\n",
       "      <td>9.79</td>\n",
       "      <td>33.45</td>\n",
       "      <td>17.40</td>\n",
       "      <td>53.11</td>\n",
       "      <td>29.84</td>\n",
       "      <td>2015</td>\n",
       "      <td>Low</td>\n",
       "      <td>Very Low</td>\n",
       "      <td>Very Low</td>\n",
       "      <td>Low</td>\n",
       "      <td>logs</td>\n",
       "    </tr>\n",
       "    <tr>\n",
       "      <th>817</th>\n",
       "      <td>Bulgarien</td>\n",
       "      <td>4.16</td>\n",
       "      <td>11.93</td>\n",
       "      <td>34.90</td>\n",
       "      <td>21.11</td>\n",
       "      <td>58.78</td>\n",
       "      <td>24.80</td>\n",
       "      <td>2021</td>\n",
       "      <td>Low</td>\n",
       "      <td>Low</td>\n",
       "      <td>Low</td>\n",
       "      <td>Low</td>\n",
       "      <td>Bulgarian</td>\n",
       "    </tr>\n",
       "    <tr>\n",
       "      <th>769</th>\n",
       "      <td>Griechenland</td>\n",
       "      <td>6.93</td>\n",
       "      <td>22.23</td>\n",
       "      <td>31.18</td>\n",
       "      <td>17.42</td>\n",
       "      <td>58.93</td>\n",
       "      <td>17.20</td>\n",
       "      <td>2021</td>\n",
       "      <td>Very High</td>\n",
       "      <td>Medium</td>\n",
       "      <td>Very Low</td>\n",
       "      <td>Low</td>\n",
       "      <td>greece</td>\n",
       "    </tr>\n",
       "  </tbody>\n",
       "</table>\n",
       "</div>"
      ],
      "text/plain": [
       "            Region    WRI  Exposure  Vulnerability  Susceptibility  \\\n",
       "1475       Lesotho   7.22     11.40          63.33           50.87   \n",
       "442          Jemen   6.00      9.04          66.32           44.57   \n",
       "883        Fidschi  13.50     27.71          48.74           25.34   \n",
       "500        Schweiz   2.46      9.56          25.73           14.57   \n",
       "1517    Australien   4.57     15.05          30.38           14.39   \n",
       "1731      Singapur   2.31      8.56          26.98           11.89   \n",
       "957       Malaysia   6.47     14.60          44.27           19.85   \n",
       "484          Polen   3.27      9.79          33.45           17.40   \n",
       "817      Bulgarien   4.16     11.93          34.90           21.11   \n",
       "769   Griechenland   6.93     22.23          31.18           17.42   \n",
       "\n",
       "      Lack of Coping Capabilities   Lack of Adaptive Capacities  Year  \\\n",
       "1475                        81.83                         57.30  2012   \n",
       "442                         90.51                         63.89  2015   \n",
       "883                         75.17                         45.72  2017   \n",
       "500                         37.78                         24.84  2015   \n",
       "1517                        41.87                         34.88  2012   \n",
       "1731                        47.73                         21.31  2018   \n",
       "957                         68.17                         44.80  2017   \n",
       "484                         53.11                         29.84  2015   \n",
       "817                         58.78                         24.80  2021   \n",
       "769                         58.93                         17.20  2021   \n",
       "\n",
       "     Exposure Category WRI Category Vulnerability Category  \\\n",
       "1475               Low       Medium                   High   \n",
       "442           Very Low       Medium              Very High   \n",
       "883          Very High    Very High                 Medium   \n",
       "500                Low     Very Low               Very Low   \n",
       "1517              High          Low               Very Low   \n",
       "1731          Very Low     Very Low               Very Low   \n",
       "957               High       Medium                    Low   \n",
       "484                Low     Very Low               Very Low   \n",
       "817                Low          Low                    Low   \n",
       "769          Very High       Medium               Very Low   \n",
       "\n",
       "     Susceptibility Category    countries  \n",
       "1475               Very High      lesotho  \n",
       "442                     High        Yemen  \n",
       "883                   Medium         fiji  \n",
       "500                 Very Low  switzerland  \n",
       "1517                Very Low   Australian  \n",
       "1731                Very Low    Singapore  \n",
       "957                      Low     malaysia  \n",
       "484                      Low         logs  \n",
       "817                      Low    Bulgarian  \n",
       "769                      Low       greece  "
      ]
     },
     "execution_count": 21,
     "metadata": {},
     "output_type": "execute_result"
    }
   ],
   "source": [
    "df.sample(10)"
   ]
  },
  {
   "cell_type": "code",
   "execution_count": 22,
   "metadata": {},
   "outputs": [],
   "source": [
    "df[\"countries\"] = df[\"countries\"].apply(quitar_espacios_lower)"
   ]
  },
  {
   "cell_type": "code",
   "execution_count": 23,
   "metadata": {},
   "outputs": [
    {
     "data": {
      "text/html": [
       "<div>\n",
       "<style scoped>\n",
       "    .dataframe tbody tr th:only-of-type {\n",
       "        vertical-align: middle;\n",
       "    }\n",
       "\n",
       "    .dataframe tbody tr th {\n",
       "        vertical-align: top;\n",
       "    }\n",
       "\n",
       "    .dataframe thead th {\n",
       "        text-align: right;\n",
       "    }\n",
       "</style>\n",
       "<table border=\"1\" class=\"dataframe\">\n",
       "  <thead>\n",
       "    <tr style=\"text-align: right;\">\n",
       "      <th></th>\n",
       "      <th>Region</th>\n",
       "      <th>WRI</th>\n",
       "      <th>Exposure</th>\n",
       "      <th>Vulnerability</th>\n",
       "      <th>Susceptibility</th>\n",
       "      <th>Lack of Coping Capabilities</th>\n",
       "      <th>Lack of Adaptive Capacities</th>\n",
       "      <th>Year</th>\n",
       "      <th>Exposure Category</th>\n",
       "      <th>WRI Category</th>\n",
       "      <th>Vulnerability Category</th>\n",
       "      <th>Susceptibility Category</th>\n",
       "      <th>countries</th>\n",
       "    </tr>\n",
       "  </thead>\n",
       "  <tbody>\n",
       "    <tr>\n",
       "      <th>0</th>\n",
       "      <td>Vanuatu</td>\n",
       "      <td>32.00</td>\n",
       "      <td>56.33</td>\n",
       "      <td>56.81</td>\n",
       "      <td>37.14</td>\n",
       "      <td>79.34</td>\n",
       "      <td>53.96</td>\n",
       "      <td>2011</td>\n",
       "      <td>Very High</td>\n",
       "      <td>Very High</td>\n",
       "      <td>High</td>\n",
       "      <td>High</td>\n",
       "      <td>vanuatu</td>\n",
       "    </tr>\n",
       "    <tr>\n",
       "      <th>1</th>\n",
       "      <td>Tonga</td>\n",
       "      <td>29.08</td>\n",
       "      <td>56.04</td>\n",
       "      <td>51.90</td>\n",
       "      <td>28.94</td>\n",
       "      <td>81.80</td>\n",
       "      <td>44.97</td>\n",
       "      <td>2011</td>\n",
       "      <td>Very High</td>\n",
       "      <td>Very High</td>\n",
       "      <td>Medium</td>\n",
       "      <td>Medium</td>\n",
       "      <td>tonga</td>\n",
       "    </tr>\n",
       "    <tr>\n",
       "      <th>2</th>\n",
       "      <td>Philippinen</td>\n",
       "      <td>24.32</td>\n",
       "      <td>45.09</td>\n",
       "      <td>53.93</td>\n",
       "      <td>34.99</td>\n",
       "      <td>82.78</td>\n",
       "      <td>44.01</td>\n",
       "      <td>2011</td>\n",
       "      <td>Very High</td>\n",
       "      <td>Very High</td>\n",
       "      <td>High</td>\n",
       "      <td>High</td>\n",
       "      <td>philippinen</td>\n",
       "    </tr>\n",
       "    <tr>\n",
       "      <th>3</th>\n",
       "      <td>Salomonen</td>\n",
       "      <td>23.51</td>\n",
       "      <td>36.40</td>\n",
       "      <td>64.60</td>\n",
       "      <td>44.11</td>\n",
       "      <td>85.95</td>\n",
       "      <td>63.74</td>\n",
       "      <td>2011</td>\n",
       "      <td>Very High</td>\n",
       "      <td>Very High</td>\n",
       "      <td>Very High</td>\n",
       "      <td>High</td>\n",
       "      <td>solomon islands</td>\n",
       "    </tr>\n",
       "    <tr>\n",
       "      <th>4</th>\n",
       "      <td>Guatemala</td>\n",
       "      <td>20.88</td>\n",
       "      <td>38.42</td>\n",
       "      <td>54.35</td>\n",
       "      <td>35.36</td>\n",
       "      <td>77.83</td>\n",
       "      <td>49.87</td>\n",
       "      <td>2011</td>\n",
       "      <td>Very High</td>\n",
       "      <td>Very High</td>\n",
       "      <td>High</td>\n",
       "      <td>High</td>\n",
       "      <td>guatemala</td>\n",
       "    </tr>\n",
       "  </tbody>\n",
       "</table>\n",
       "</div>"
      ],
      "text/plain": [
       "        Region    WRI  Exposure  Vulnerability  Susceptibility  \\\n",
       "0      Vanuatu  32.00     56.33          56.81           37.14   \n",
       "1        Tonga  29.08     56.04          51.90           28.94   \n",
       "2  Philippinen  24.32     45.09          53.93           34.99   \n",
       "3    Salomonen  23.51     36.40          64.60           44.11   \n",
       "4    Guatemala  20.88     38.42          54.35           35.36   \n",
       "\n",
       "   Lack of Coping Capabilities   Lack of Adaptive Capacities  Year  \\\n",
       "0                        79.34                         53.96  2011   \n",
       "1                        81.80                         44.97  2011   \n",
       "2                        82.78                         44.01  2011   \n",
       "3                        85.95                         63.74  2011   \n",
       "4                        77.83                         49.87  2011   \n",
       "\n",
       "  Exposure Category WRI Category Vulnerability Category  \\\n",
       "0         Very High    Very High                   High   \n",
       "1         Very High    Very High                 Medium   \n",
       "2         Very High    Very High                   High   \n",
       "3         Very High    Very High              Very High   \n",
       "4         Very High    Very High                   High   \n",
       "\n",
       "  Susceptibility Category        countries  \n",
       "0                    High          vanuatu  \n",
       "1                  Medium            tonga  \n",
       "2                    High      philippinen  \n",
       "3                    High  solomon islands  \n",
       "4                    High        guatemala  "
      ]
     },
     "execution_count": 23,
     "metadata": {},
     "output_type": "execute_result"
    }
   ],
   "source": [
    "df.head()"
   ]
  },
  {
   "cell_type": "code",
   "execution_count": 24,
   "metadata": {},
   "outputs": [
    {
     "data": {
      "text/plain": [
       "235"
      ]
     },
     "execution_count": 24,
     "metadata": {},
     "output_type": "execute_result"
    }
   ],
   "source": [
    "df[\"countries\"].describe()[1]\n",
    "#unicos en countries = 235"
   ]
  },
  {
   "cell_type": "code",
   "execution_count": 25,
   "metadata": {},
   "outputs": [
    {
     "data": {
      "text/plain": [
       "71"
      ]
     },
     "execution_count": 25,
     "metadata": {},
     "output_type": "execute_result"
    }
   ],
   "source": [
    "df[\"Region\"].describe()[1] - df[\"countries\"].describe()[1]\n",
    "#diferencia con Region"
   ]
  },
  {
   "cell_type": "markdown",
   "metadata": {},
   "source": [
    "Guardamos el fichero para no tener que traducir otra vez."
   ]
  },
  {
   "cell_type": "code",
   "execution_count": 26,
   "metadata": {},
   "outputs": [],
   "source": [
    "df.to_csv('world_risk_translate.csv') #Guardamos el csv con los cambios"
   ]
  },
  {
   "cell_type": "markdown",
   "metadata": {},
   "source": [
    "----------"
   ]
  },
  {
   "cell_type": "markdown",
   "metadata": {},
   "source": [
    "Utilizamos el nuevo *DataFrame*"
   ]
  },
  {
   "cell_type": "code",
   "execution_count": 27,
   "metadata": {},
   "outputs": [],
   "source": [
    "df_traducido = pd.read_csv(\"world_risk_translate.csv\", index_col=0)"
   ]
  },
  {
   "cell_type": "code",
   "execution_count": 28,
   "metadata": {},
   "outputs": [
    {
     "data": {
      "text/html": [
       "<div>\n",
       "<style scoped>\n",
       "    .dataframe tbody tr th:only-of-type {\n",
       "        vertical-align: middle;\n",
       "    }\n",
       "\n",
       "    .dataframe tbody tr th {\n",
       "        vertical-align: top;\n",
       "    }\n",
       "\n",
       "    .dataframe thead th {\n",
       "        text-align: right;\n",
       "    }\n",
       "</style>\n",
       "<table border=\"1\" class=\"dataframe\">\n",
       "  <thead>\n",
       "    <tr style=\"text-align: right;\">\n",
       "      <th></th>\n",
       "      <th>Region</th>\n",
       "      <th>WRI</th>\n",
       "      <th>Exposure</th>\n",
       "      <th>Vulnerability</th>\n",
       "      <th>Susceptibility</th>\n",
       "      <th>Lack of Coping Capabilities</th>\n",
       "      <th>Lack of Adaptive Capacities</th>\n",
       "      <th>Year</th>\n",
       "      <th>Exposure Category</th>\n",
       "      <th>WRI Category</th>\n",
       "      <th>Vulnerability Category</th>\n",
       "      <th>Susceptibility Category</th>\n",
       "      <th>countries</th>\n",
       "    </tr>\n",
       "  </thead>\n",
       "  <tbody>\n",
       "    <tr>\n",
       "      <th>516</th>\n",
       "      <td>Katar</td>\n",
       "      <td>0.08</td>\n",
       "      <td>0.28</td>\n",
       "      <td>30.13</td>\n",
       "      <td>9.04</td>\n",
       "      <td>44.88</td>\n",
       "      <td>36.47</td>\n",
       "      <td>2015</td>\n",
       "      <td>Very Low</td>\n",
       "      <td>Very Low</td>\n",
       "      <td>Very Low</td>\n",
       "      <td>Very Low</td>\n",
       "      <td>katar</td>\n",
       "    </tr>\n",
       "  </tbody>\n",
       "</table>\n",
       "</div>"
      ],
      "text/plain": [
       "    Region   WRI  Exposure  Vulnerability  Susceptibility  \\\n",
       "516  Katar  0.08      0.28          30.13            9.04   \n",
       "\n",
       "     Lack of Coping Capabilities   Lack of Adaptive Capacities  Year  \\\n",
       "516                        44.88                         36.47  2015   \n",
       "\n",
       "    Exposure Category WRI Category Vulnerability Category  \\\n",
       "516          Very Low     Very Low               Very Low   \n",
       "\n",
       "    Susceptibility Category countries  \n",
       "516                Very Low     katar  "
      ]
     },
     "execution_count": 28,
     "metadata": {},
     "output_type": "execute_result"
    }
   ],
   "source": [
    "df_traducido.sample()"
   ]
  },
  {
   "cell_type": "code",
   "execution_count": 29,
   "metadata": {},
   "outputs": [
    {
     "data": {
      "text/html": [
       "<div>\n",
       "<style scoped>\n",
       "    .dataframe tbody tr th:only-of-type {\n",
       "        vertical-align: middle;\n",
       "    }\n",
       "\n",
       "    .dataframe tbody tr th {\n",
       "        vertical-align: top;\n",
       "    }\n",
       "\n",
       "    .dataframe thead th {\n",
       "        text-align: right;\n",
       "    }\n",
       "</style>\n",
       "<table border=\"1\" class=\"dataframe\">\n",
       "  <thead>\n",
       "    <tr style=\"text-align: right;\">\n",
       "      <th></th>\n",
       "      <th>countries</th>\n",
       "      <th>Region</th>\n",
       "      <th>WRI</th>\n",
       "      <th>Exposure</th>\n",
       "      <th>Vulnerability</th>\n",
       "      <th>Susceptibility</th>\n",
       "      <th>Lack of Coping Capabilities</th>\n",
       "      <th>Lack of Adaptive Capacities</th>\n",
       "      <th>Year</th>\n",
       "      <th>Exposure Category</th>\n",
       "      <th>WRI Category</th>\n",
       "      <th>Vulnerability Category</th>\n",
       "      <th>Susceptibility Category</th>\n",
       "    </tr>\n",
       "  </thead>\n",
       "  <tbody>\n",
       "    <tr>\n",
       "      <th>1752</th>\n",
       "      <td>brunei darussalam</td>\n",
       "      <td>Brunei Darussalam</td>\n",
       "      <td>17.0</td>\n",
       "      <td>41.1</td>\n",
       "      <td>41.36</td>\n",
       "      <td>17.4</td>\n",
       "      <td>63.17</td>\n",
       "      <td>43.53</td>\n",
       "      <td>2016</td>\n",
       "      <td>Very High</td>\n",
       "      <td>Very High</td>\n",
       "      <td>Low</td>\n",
       "      <td>Low</td>\n",
       "    </tr>\n",
       "  </tbody>\n",
       "</table>\n",
       "</div>"
      ],
      "text/plain": [
       "              countries             Region   WRI  Exposure  Vulnerability  \\\n",
       "1752  brunei darussalam  Brunei Darussalam  17.0      41.1          41.36   \n",
       "\n",
       "      Susceptibility  Lack of Coping Capabilities  \\\n",
       "1752            17.4                        63.17   \n",
       "\n",
       "       Lack of Adaptive Capacities  Year Exposure Category WRI Category  \\\n",
       "1752                         43.53  2016         Very High    Very High   \n",
       "\n",
       "     Vulnerability Category Susceptibility Category  \n",
       "1752                    Low                     Low  "
      ]
     },
     "execution_count": 29,
     "metadata": {},
     "output_type": "execute_result"
    }
   ],
   "source": [
    "col = df_traducido.pop('countries')\n",
    "df_traducido.insert(loc= 0 , column= 'countries', value= col)\n",
    "df_traducido.sample()\n",
    "#ponemos la columna countries al principio para que sea más facil averiguar la traduccion"
   ]
  },
  {
   "cell_type": "markdown",
   "metadata": {},
   "source": [
    "Nos enteramos que hay paises que están en idiomas que el perfil gratis de *deepL* no permite traducir.  \n",
    "  \n",
    "Decidimos de revisar si hay algun patron, pero al no encontrar, decidimos revisar la lista y sustituir con el nombre correcto.  \n",
    "\n",
    "P.S. las formulas arriba están con # para que no se haga dificil leer el fichero desce el *GitHub*"
   ]
  },
  {
   "cell_type": "code",
   "execution_count": 30,
   "metadata": {},
   "outputs": [],
   "source": [
    "df_traducido['countries'] = df_traducido['countries'].replace(['albanien','antigua und barbuda','armenien','australian','bangladesch','bulgarian','cap verde','chamber','columbien','democratic republic of congo','Kongo','eswatini','federated states v. micronesia',\"gabun\",'i am','indien'], \n",
    " ['albania','antigua and barbuda','armenia','australia','bangladesh','bulgaria','cape verde','comoros','colombia','congo','congo','swaziland','federated states of micronesia',\"gabon\",'benin','india'])"
   ]
  },
  {
   "cell_type": "code",
   "execution_count": 31,
   "metadata": {},
   "outputs": [],
   "source": [
    "df_traducido['countries'] = df_traducido['countries'].replace(['niederlande','noseeeland','philippinen','please contact','russian federation','sambia','seychellen','simbabwe','spanien','st. vincent and the grenadines','st. vincent u. die grenadinen','swasiland','t. f. yugo. rep. of macedonia','ver. arab emirates','viet Nam'], \n",
    "                                                              ['netherlands','new zealand','philippines','suriname','russia','zambia','seychelles','zimbabwe','spain','saint vincent and the grenadines','saint vincent and the grenadines','swaziland','macedonia',\"united arab emirates\",'vietnam'])"
   ]
  },
  {
   "cell_type": "code",
   "execution_count": 32,
   "metadata": {},
   "outputs": [],
   "source": [
    "df_traducido['countries'] = df_traducido['countries'].replace(['syrian','syrian arab republic','são tomé and príncipe','são tomé und príncipe','tadschikistan','trinidad und tobago','united states', 'united states v. a.' ,\"viet took\"], \n",
    "                                                              ['syria','syria','sao tome and principe','sao tome and principe','tajikistan','trinidad and tobago','united states of america','united states of america','viet Nam'])"
   ]
  },
  {
   "cell_type": "code",
   "execution_count": 33,
   "metadata": {},
   "outputs": [],
   "source": [
    "df_traducido['countries'] = df_traducido['countries'].replace(['indonesien','iran (islamic republic of)','irland','island','italian','jordanien','korea republic of','korea republic of 4.59',\"lao people's democ. republic\",\"lao people's democratic republic\",'libyan arab jamahiriya','logs','mauretanien','moldawien','republic of moldova','mongolei','north macedonia','surinam'], \n",
    " ['indonesia','iran','ireland','iceland','italy','jordan','south korea','south korea','laos','laos','libya','poland','mauritania','moldova','moldova','mongolia','macedonia',\"suriname\"])"
   ]
  },
  {
   "cell_type": "code",
   "execution_count": 34,
   "metadata": {},
   "outputs": [],
   "source": [
    "df_traducido['countries'] = df_traducido['countries'].replace([\"cote d'ivoire\",'kongo','republic of macedonia','mosambik','united republic of tanzania',], \n",
    " ['ivory coast','congo','macedonia','mozambique','tanzania'])"
   ]
  },
  {
   "cell_type": "code",
   "execution_count": 35,
   "metadata": {},
   "outputs": [],
   "source": [
    "df_traducido['countries'] = df_traducido['countries'].replace(['viet Nam',\"soil\"],[\"vietnam\",\"jordan\"])"
   ]
  },
  {
   "cell_type": "code",
   "execution_count": 36,
   "metadata": {},
   "outputs": [
    {
     "data": {
      "text/plain": [
       "181"
      ]
     },
     "execution_count": 36,
     "metadata": {},
     "output_type": "execute_result"
    }
   ],
   "source": [
    "df_traducido[\"countries\"].describe()[1]\n",
    "#hemos conseguido tener 181 unique!"
   ]
  },
  {
   "cell_type": "code",
   "execution_count": 38,
   "metadata": {},
   "outputs": [],
   "source": [
    "df_traducido[\"Region\"] = df_traducido[\"countries\"]"
   ]
  },
  {
   "cell_type": "code",
   "execution_count": 42,
   "metadata": {},
   "outputs": [],
   "source": [
    "df_traducido.drop(\"countries\", axis=1, inplace=True)"
   ]
  },
  {
   "cell_type": "code",
   "execution_count": 46,
   "metadata": {},
   "outputs": [],
   "source": [
    "df_traducido.to_csv('world_risk_translate_final.csv') #Guardamos el csv con los cambios"
   ]
  },
  {
   "cell_type": "code",
   "execution_count": 47,
   "metadata": {},
   "outputs": [],
   "source": [
    "df_traducido.to_csv(\"../datos/world_risk_translate.csv\") #Guardamos el fichero en el la carpeta de datos"
   ]
  }
 ],
 "metadata": {
  "kernelspec": {
   "display_name": "Python 3.9.7 ('base')",
   "language": "python",
   "name": "python3"
  },
  "language_info": {
   "codemirror_mode": {
    "name": "ipython",
    "version": 3
   },
   "file_extension": ".py",
   "mimetype": "text/x-python",
   "name": "python",
   "nbconvert_exporter": "python",
   "pygments_lexer": "ipython3",
   "version": "3.9.7"
  },
  "orig_nbformat": 4,
  "vscode": {
   "interpreter": {
    "hash": "651c3b7b3f466eb030aa737f279c846be4db9cba49a2f229278cab5e41121ed5"
   }
  }
 },
 "nbformat": 4,
 "nbformat_minor": 2
}
