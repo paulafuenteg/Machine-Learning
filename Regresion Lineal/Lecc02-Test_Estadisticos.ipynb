{
 "cells": [
  {
   "attachments": {},
   "cell_type": "markdown",
   "metadata": {},
   "source": [
    "## Ejercicios de pair programming 18 enero: Test estadísticos"
   ]
  },
  {
   "attachments": {},
   "cell_type": "markdown",
   "metadata": {},
   "source": [
    "1- ¿Qué diferencia existe el error de tipo I y el error de tipo II?\n",
    "\n",
    " Un error de Tipo I es si rechazamos la hipótesis nula cuando es verdadera, y un error de tipo II al revés, si aceptamos la hipótesis nula cuando es falsa."
   ]
  },
  {
   "attachments": {},
   "cell_type": "markdown",
   "metadata": {},
   "source": [
    "2- ¿Qué es la asimetría?\n",
    "\n",
    " La asimetría es la falta de simetría que presenta una distribución teniendo en cuenta la media, es decir cuando la media no coíncide con la mediana y la moda. "
   ]
  },
  {
   "cell_type": "code",
   "execution_count": 1,
   "metadata": {},
   "outputs": [],
   "source": [
    "import pandas as pd\n",
    "import numpy as np\n",
    "import matplotlib.pyplot as plt\n",
    "import seaborn as sns\n",
    "\n",
    "from scipy.stats import skew\n",
    "from scipy.stats import kurtosistest\n",
    "from scipy.stats import kstest\n",
    "import statsmodels.api as sm\n",
    "\n",
    "import warnings\n",
    "warnings.filterwarnings('ignore')\n"
   ]
  },
  {
   "cell_type": "code",
   "execution_count": 2,
   "metadata": {},
   "outputs": [
    {
     "data": {
      "text/html": [
       "<div>\n",
       "<style scoped>\n",
       "    .dataframe tbody tr th:only-of-type {\n",
       "        vertical-align: middle;\n",
       "    }\n",
       "\n",
       "    .dataframe tbody tr th {\n",
       "        vertical-align: top;\n",
       "    }\n",
       "\n",
       "    .dataframe thead th {\n",
       "        text-align: right;\n",
       "    }\n",
       "</style>\n",
       "<table border=\"1\" class=\"dataframe\">\n",
       "  <thead>\n",
       "    <tr style=\"text-align: right;\">\n",
       "      <th></th>\n",
       "      <th>region</th>\n",
       "      <th>exposure_category</th>\n",
       "      <th>wri_category</th>\n",
       "      <th>vulnerability_category</th>\n",
       "      <th>susceptibility_category</th>\n",
       "      <th>wri</th>\n",
       "      <th>exposure</th>\n",
       "      <th>vulnerability</th>\n",
       "      <th>susceptibility</th>\n",
       "      <th>lack_of_coping_capabilities</th>\n",
       "      <th>lack_of_adaptive_capacities</th>\n",
       "      <th>year</th>\n",
       "    </tr>\n",
       "  </thead>\n",
       "  <tbody>\n",
       "    <tr>\n",
       "      <th>0</th>\n",
       "      <td>vanuatu</td>\n",
       "      <td>Very High</td>\n",
       "      <td>Very High</td>\n",
       "      <td>High</td>\n",
       "      <td>High</td>\n",
       "      <td>32.00</td>\n",
       "      <td>56.33</td>\n",
       "      <td>56.81</td>\n",
       "      <td>37.14</td>\n",
       "      <td>79.34</td>\n",
       "      <td>53.96</td>\n",
       "      <td>2011.0</td>\n",
       "    </tr>\n",
       "    <tr>\n",
       "      <th>1</th>\n",
       "      <td>tonga</td>\n",
       "      <td>Very High</td>\n",
       "      <td>Very High</td>\n",
       "      <td>Medium</td>\n",
       "      <td>Medium</td>\n",
       "      <td>29.08</td>\n",
       "      <td>56.04</td>\n",
       "      <td>51.90</td>\n",
       "      <td>28.94</td>\n",
       "      <td>81.80</td>\n",
       "      <td>44.97</td>\n",
       "      <td>2011.0</td>\n",
       "    </tr>\n",
       "    <tr>\n",
       "      <th>2</th>\n",
       "      <td>philippines</td>\n",
       "      <td>Very High</td>\n",
       "      <td>Very High</td>\n",
       "      <td>High</td>\n",
       "      <td>High</td>\n",
       "      <td>24.32</td>\n",
       "      <td>45.09</td>\n",
       "      <td>53.93</td>\n",
       "      <td>34.99</td>\n",
       "      <td>82.78</td>\n",
       "      <td>44.01</td>\n",
       "      <td>2011.0</td>\n",
       "    </tr>\n",
       "    <tr>\n",
       "      <th>3</th>\n",
       "      <td>solomon islands</td>\n",
       "      <td>Very High</td>\n",
       "      <td>Very High</td>\n",
       "      <td>Very High</td>\n",
       "      <td>High</td>\n",
       "      <td>23.51</td>\n",
       "      <td>36.40</td>\n",
       "      <td>64.60</td>\n",
       "      <td>44.11</td>\n",
       "      <td>85.95</td>\n",
       "      <td>63.74</td>\n",
       "      <td>2011.0</td>\n",
       "    </tr>\n",
       "    <tr>\n",
       "      <th>4</th>\n",
       "      <td>guatemala</td>\n",
       "      <td>Very High</td>\n",
       "      <td>Very High</td>\n",
       "      <td>High</td>\n",
       "      <td>High</td>\n",
       "      <td>20.88</td>\n",
       "      <td>38.42</td>\n",
       "      <td>54.35</td>\n",
       "      <td>35.36</td>\n",
       "      <td>77.83</td>\n",
       "      <td>49.87</td>\n",
       "      <td>2011.0</td>\n",
       "    </tr>\n",
       "  </tbody>\n",
       "</table>\n",
       "</div>"
      ],
      "text/plain": [
       "            region exposure_category wri_category vulnerability_category  \\\n",
       "0          vanuatu         Very High    Very High                   High   \n",
       "1            tonga         Very High    Very High                 Medium   \n",
       "2      philippines         Very High    Very High                   High   \n",
       "3  solomon islands         Very High    Very High              Very High   \n",
       "4        guatemala         Very High    Very High                   High   \n",
       "\n",
       "  susceptibility_category    wri  exposure  vulnerability  susceptibility  \\\n",
       "0                    High  32.00     56.33          56.81           37.14   \n",
       "1                  Medium  29.08     56.04          51.90           28.94   \n",
       "2                    High  24.32     45.09          53.93           34.99   \n",
       "3                    High  23.51     36.40          64.60           44.11   \n",
       "4                    High  20.88     38.42          54.35           35.36   \n",
       "\n",
       "   lack_of_coping_capabilities  lack_of_adaptive_capacities    year  \n",
       "0                        79.34                        53.96  2011.0  \n",
       "1                        81.80                        44.97  2011.0  \n",
       "2                        82.78                        44.01  2011.0  \n",
       "3                        85.95                        63.74  2011.0  \n",
       "4                        77.83                        49.87  2011.0  "
      ]
     },
     "execution_count": 2,
     "metadata": {},
     "output_type": "execute_result"
    }
   ],
   "source": [
    "#Abrimos el df completo con outliers\n",
    "df = pd.read_csv(\"../datos/world_risk_index2.csv\", index_col = 0)\n",
    "df.head()"
   ]
  },
  {
   "cell_type": "code",
   "execution_count": 3,
   "metadata": {},
   "outputs": [
    {
     "data": {
      "text/html": [
       "<div>\n",
       "<style scoped>\n",
       "    .dataframe tbody tr th:only-of-type {\n",
       "        vertical-align: middle;\n",
       "    }\n",
       "\n",
       "    .dataframe tbody tr th {\n",
       "        vertical-align: top;\n",
       "    }\n",
       "\n",
       "    .dataframe thead th {\n",
       "        text-align: right;\n",
       "    }\n",
       "</style>\n",
       "<table border=\"1\" class=\"dataframe\">\n",
       "  <thead>\n",
       "    <tr style=\"text-align: right;\">\n",
       "      <th></th>\n",
       "      <th>region</th>\n",
       "      <th>exposure_category</th>\n",
       "      <th>wri_category</th>\n",
       "      <th>vulnerability_category</th>\n",
       "      <th>susceptibility_category</th>\n",
       "      <th>wri</th>\n",
       "      <th>exposure</th>\n",
       "      <th>vulnerability</th>\n",
       "      <th>susceptibility</th>\n",
       "      <th>lack_of_coping_capabilities</th>\n",
       "      <th>lack_of_adaptive_capacities</th>\n",
       "      <th>year</th>\n",
       "    </tr>\n",
       "  </thead>\n",
       "  <tbody>\n",
       "    <tr>\n",
       "      <th>0</th>\n",
       "      <td>vanuatu</td>\n",
       "      <td>Very High</td>\n",
       "      <td>Very High</td>\n",
       "      <td>High</td>\n",
       "      <td>High</td>\n",
       "      <td>32.00</td>\n",
       "      <td>56.33</td>\n",
       "      <td>56.81</td>\n",
       "      <td>37.14</td>\n",
       "      <td>79.34</td>\n",
       "      <td>53.96</td>\n",
       "      <td>2011.0</td>\n",
       "    </tr>\n",
       "    <tr>\n",
       "      <th>1</th>\n",
       "      <td>tonga</td>\n",
       "      <td>Very High</td>\n",
       "      <td>Very High</td>\n",
       "      <td>Medium</td>\n",
       "      <td>Medium</td>\n",
       "      <td>29.08</td>\n",
       "      <td>56.04</td>\n",
       "      <td>51.90</td>\n",
       "      <td>28.94</td>\n",
       "      <td>81.80</td>\n",
       "      <td>44.97</td>\n",
       "      <td>2011.0</td>\n",
       "    </tr>\n",
       "    <tr>\n",
       "      <th>2</th>\n",
       "      <td>philippines</td>\n",
       "      <td>Very High</td>\n",
       "      <td>Very High</td>\n",
       "      <td>High</td>\n",
       "      <td>High</td>\n",
       "      <td>24.32</td>\n",
       "      <td>45.09</td>\n",
       "      <td>53.93</td>\n",
       "      <td>34.99</td>\n",
       "      <td>82.78</td>\n",
       "      <td>44.01</td>\n",
       "      <td>2011.0</td>\n",
       "    </tr>\n",
       "    <tr>\n",
       "      <th>3</th>\n",
       "      <td>solomon islands</td>\n",
       "      <td>Very High</td>\n",
       "      <td>Very High</td>\n",
       "      <td>Very High</td>\n",
       "      <td>High</td>\n",
       "      <td>23.51</td>\n",
       "      <td>36.40</td>\n",
       "      <td>64.60</td>\n",
       "      <td>44.11</td>\n",
       "      <td>85.95</td>\n",
       "      <td>63.74</td>\n",
       "      <td>2011.0</td>\n",
       "    </tr>\n",
       "    <tr>\n",
       "      <th>4</th>\n",
       "      <td>guatemala</td>\n",
       "      <td>Very High</td>\n",
       "      <td>Very High</td>\n",
       "      <td>High</td>\n",
       "      <td>High</td>\n",
       "      <td>20.88</td>\n",
       "      <td>38.42</td>\n",
       "      <td>54.35</td>\n",
       "      <td>35.36</td>\n",
       "      <td>77.83</td>\n",
       "      <td>49.87</td>\n",
       "      <td>2011.0</td>\n",
       "    </tr>\n",
       "  </tbody>\n",
       "</table>\n",
       "</div>"
      ],
      "text/plain": [
       "            region exposure_category wri_category vulnerability_category  \\\n",
       "0          vanuatu         Very High    Very High                   High   \n",
       "1            tonga         Very High    Very High                 Medium   \n",
       "2      philippines         Very High    Very High                   High   \n",
       "3  solomon islands         Very High    Very High              Very High   \n",
       "4        guatemala         Very High    Very High                   High   \n",
       "\n",
       "  susceptibility_category    wri  exposure  vulnerability  susceptibility  \\\n",
       "0                    High  32.00     56.33          56.81           37.14   \n",
       "1                  Medium  29.08     56.04          51.90           28.94   \n",
       "2                    High  24.32     45.09          53.93           34.99   \n",
       "3                    High  23.51     36.40          64.60           44.11   \n",
       "4                    High  20.88     38.42          54.35           35.36   \n",
       "\n",
       "   lack_of_coping_capabilities  lack_of_adaptive_capacities    year  \n",
       "0                        79.34                        53.96  2011.0  \n",
       "1                        81.80                        44.97  2011.0  \n",
       "2                        82.78                        44.01  2011.0  \n",
       "3                        85.95                        63.74  2011.0  \n",
       "4                        77.83                        49.87  2011.0  "
      ]
     },
     "execution_count": 3,
     "metadata": {},
     "output_type": "execute_result"
    }
   ],
   "source": [
    "#Abrimos el dataset solo de outliers\n",
    "outliers = pd.read_csv(\"../datos/world_risk_index_outliers.csv\", index_col = 0)\n",
    "outliers.head()"
   ]
  },
  {
   "cell_type": "code",
   "execution_count": 4,
   "metadata": {},
   "outputs": [
    {
     "data": {
      "text/html": [
       "<div>\n",
       "<style scoped>\n",
       "    .dataframe tbody tr th:only-of-type {\n",
       "        vertical-align: middle;\n",
       "    }\n",
       "\n",
       "    .dataframe tbody tr th {\n",
       "        vertical-align: top;\n",
       "    }\n",
       "\n",
       "    .dataframe thead th {\n",
       "        text-align: right;\n",
       "    }\n",
       "</style>\n",
       "<table border=\"1\" class=\"dataframe\">\n",
       "  <thead>\n",
       "    <tr style=\"text-align: right;\">\n",
       "      <th></th>\n",
       "      <th>region</th>\n",
       "      <th>exposure_category</th>\n",
       "      <th>wri_category</th>\n",
       "      <th>vulnerability_category</th>\n",
       "      <th>susceptibility_category</th>\n",
       "      <th>wri</th>\n",
       "      <th>exposure</th>\n",
       "      <th>vulnerability</th>\n",
       "      <th>susceptibility</th>\n",
       "      <th>lack_of_coping_capabilities</th>\n",
       "      <th>lack_of_adaptive_capacities</th>\n",
       "      <th>year</th>\n",
       "    </tr>\n",
       "  </thead>\n",
       "  <tbody>\n",
       "    <tr>\n",
       "      <th>0</th>\n",
       "      <td>papua new guinea</td>\n",
       "      <td>Very High</td>\n",
       "      <td>Very High</td>\n",
       "      <td>Very High</td>\n",
       "      <td>Very High</td>\n",
       "      <td>15.45</td>\n",
       "      <td>23.26</td>\n",
       "      <td>66.41</td>\n",
       "      <td>50.04</td>\n",
       "      <td>84.83</td>\n",
       "      <td>64.36</td>\n",
       "      <td>2011.0</td>\n",
       "    </tr>\n",
       "    <tr>\n",
       "      <th>1</th>\n",
       "      <td>madagascar</td>\n",
       "      <td>Very High</td>\n",
       "      <td>Very High</td>\n",
       "      <td>Very High</td>\n",
       "      <td>Very High</td>\n",
       "      <td>14.46</td>\n",
       "      <td>20.68</td>\n",
       "      <td>69.91</td>\n",
       "      <td>67.51</td>\n",
       "      <td>85.65</td>\n",
       "      <td>56.57</td>\n",
       "      <td>2011.0</td>\n",
       "    </tr>\n",
       "    <tr>\n",
       "      <th>2</th>\n",
       "      <td>afghanistan</td>\n",
       "      <td>Very High</td>\n",
       "      <td>Very High</td>\n",
       "      <td>Very High</td>\n",
       "      <td>Very High</td>\n",
       "      <td>14.06</td>\n",
       "      <td>18.45</td>\n",
       "      <td>76.19</td>\n",
       "      <td>61.09</td>\n",
       "      <td>93.94</td>\n",
       "      <td>73.55</td>\n",
       "      <td>2011.0</td>\n",
       "    </tr>\n",
       "    <tr>\n",
       "      <th>3</th>\n",
       "      <td>niger</td>\n",
       "      <td>Very High</td>\n",
       "      <td>Very High</td>\n",
       "      <td>Very High</td>\n",
       "      <td>Very High</td>\n",
       "      <td>14.03</td>\n",
       "      <td>18.49</td>\n",
       "      <td>75.86</td>\n",
       "      <td>69.38</td>\n",
       "      <td>89.54</td>\n",
       "      <td>68.65</td>\n",
       "      <td>2011.0</td>\n",
       "    </tr>\n",
       "    <tr>\n",
       "      <th>4</th>\n",
       "      <td>gambia</td>\n",
       "      <td>Very High</td>\n",
       "      <td>Very High</td>\n",
       "      <td>High</td>\n",
       "      <td>High</td>\n",
       "      <td>13.90</td>\n",
       "      <td>22.20</td>\n",
       "      <td>62.63</td>\n",
       "      <td>45.29</td>\n",
       "      <td>83.99</td>\n",
       "      <td>58.62</td>\n",
       "      <td>2011.0</td>\n",
       "    </tr>\n",
       "  </tbody>\n",
       "</table>\n",
       "</div>"
      ],
      "text/plain": [
       "             region exposure_category wri_category vulnerability_category  \\\n",
       "0  papua new guinea         Very High    Very High              Very High   \n",
       "1        madagascar         Very High    Very High              Very High   \n",
       "2       afghanistan         Very High    Very High              Very High   \n",
       "3             niger         Very High    Very High              Very High   \n",
       "4            gambia         Very High    Very High                   High   \n",
       "\n",
       "  susceptibility_category    wri  exposure  vulnerability  susceptibility  \\\n",
       "0               Very High  15.45     23.26          66.41           50.04   \n",
       "1               Very High  14.46     20.68          69.91           67.51   \n",
       "2               Very High  14.06     18.45          76.19           61.09   \n",
       "3               Very High  14.03     18.49          75.86           69.38   \n",
       "4                    High  13.90     22.20          62.63           45.29   \n",
       "\n",
       "   lack_of_coping_capabilities  lack_of_adaptive_capacities    year  \n",
       "0                        84.83                        64.36  2011.0  \n",
       "1                        85.65                        56.57  2011.0  \n",
       "2                        93.94                        73.55  2011.0  \n",
       "3                        89.54                        68.65  2011.0  \n",
       "4                        83.99                        58.62  2011.0  "
      ]
     },
     "execution_count": 4,
     "metadata": {},
     "output_type": "execute_result"
    }
   ],
   "source": [
    "#Abrimos el dataset sin outliers\n",
    "df_limpio = pd.read_csv(\"../datos/world_risk_index_sin_outliers.csv\", index_col = 0)\n",
    "df_limpio.head()"
   ]
  },
  {
   "attachments": {},
   "cell_type": "markdown",
   "metadata": {},
   "source": [
    "### Info columnas\n",
    "|Columna| Tipo de dato | Descripcion |\n",
    "|-------|--------------|-------------|\n",
    "|Region| String|\tName of the region.\n",
    "|WRI\t| Decimal |\tWorld Risk Score of the region.\n",
    "|Exposure\t| Decimal |\tRisk/exposure to natural hazards such as earthquakes, hurricanes, floods, droughts, and sea ​​level rise.\n",
    "|Vulnerability\t| Decimal |\tVulnerability depending on infrastructure, nutrition, housing situation, and economic framework conditions.\n",
    "|Susceptibility\t| Decimal |\tSusceptibility depending on infrastructure, nutrition, housing situation, and economic framework conditions.\n",
    "|Lack of Coping Capabilities\t| Decimal |\tCoping capacities in dependence of governance, preparedness and early warning, medical care, and social and material security.\n",
    "|Lack of Adaptive Capacities| Decimal |\tAdaptive capacities related to coming natural events, climate change, and other challenges.\n",
    "|Year\t| Decimal |\tYear data is being described.\n",
    "|WRI Category| String|\tWRI Category for the given WRI Score.\n",
    "|Exposure Category| String|\tExposure Category for the given Exposure Score.\n",
    "|Vulnerability Categoy| String|\tVulnerability Category for the given Vulnerability Score.\n",
    "|Susceptibility Category| String|\tSusceptibility Category for the given Susceptibility Score.\n",
    "\n",
    "Link a la base de datos : https://www.kaggle.com/datasets/tr1gg3rtrash/global-disaster-risk-index-time-series-dataset\n",
    "\n",
    "### Nuestra variable respuesta es Exposure, queremos saber cual es el riesgo de desastres naturales dependiendo del resto de variables"
   ]
  },
  {
   "attachments": {},
   "cell_type": "markdown",
   "metadata": {},
   "source": [
    "3 - ¿Es vuestra variable respuesta asimétrica?"
   ]
  },
  {
   "cell_type": "code",
   "execution_count": 5,
   "metadata": {},
   "outputs": [
    {
     "name": "stdout",
     "output_type": "stream",
     "text": [
      "El skew del conjunto de datos es: 2.757231258941327\n",
      "El skew de los outliers es: 0.7376705402155904\n",
      "El skew de los datos sin outliers es: 0.39991992650175473\n"
     ]
    }
   ],
   "source": [
    "#Vemos el valor de skew para ver si la variable respuesta que hemos elegido 'exposure' es simétrica\n",
    "print('El skew del conjunto de datos es:', df['exposure'].skew())\n",
    "print('El skew de los outliers es:', outliers['exposure'].skew())\n",
    "print('El skew de los datos sin outliers es:', df_limpio['exposure'].skew())"
   ]
  },
  {
   "cell_type": "code",
   "execution_count": 6,
   "metadata": {},
   "outputs": [
    {
     "data": {
      "image/png": "[encoded data removed]",
      "text/plain": [
       "<Figure size 432x288 with 1 Axes>"
      ]
     },
     "metadata": {
      "needs_background": "light"
     },
     "output_type": "display_data"
    }
   ],
   "source": [
    "#Lo representamos gráficamente\n",
    "sns.distplot(\n",
    "    df[\"exposure\"], \n",
    "    hist = False, \n",
    "    color = \"green\", \n",
    "    kde_kws = {\"shade\": True, \"linewidth\": 1})\n",
    "plt.title('Conjunto de datos');"
   ]
  },
  {
   "cell_type": "code",
   "execution_count": 7,
   "metadata": {},
   "outputs": [
    {
     "data": {
      "image/png": "[encoded data removed]",
      "text/plain": [
       "<Figure size 432x288 with 1 Axes>"
      ]
     },
     "metadata": {
      "needs_background": "light"
     },
     "output_type": "display_data"
    }
   ],
   "source": [
    "sns.distplot(\n",
    "    outliers[\"exposure\"], \n",
    "    hist = False, \n",
    "    color = \"blue\", \n",
    "    kde_kws = {\"shade\": True, \"linewidth\": 1})\n",
    "plt.title('Outliers');"
   ]
  },
  {
   "cell_type": "code",
   "execution_count": 8,
   "metadata": {},
   "outputs": [
    {
     "data": {
      "image/png": "[encoded data removed]",
      "text/plain": [
       "<Figure size 432x288 with 1 Axes>"
      ]
     },
     "metadata": {
      "needs_background": "light"
     },
     "output_type": "display_data"
    }
   ],
   "source": [
    "sns.distplot(\n",
    "    df_limpio[\"exposure\"], \n",
    "    hist = False, \n",
    "    color = \"grey\", \n",
    "    kde_kws = {\"shade\": True, \"linewidth\": 1})\n",
    "plt.title('Datos sin outliers');"
   ]
  },
  {
   "attachments": {},
   "cell_type": "markdown",
   "metadata": {},
   "source": [
    "Nuestra variable respuesta no es simétrica, tiene una asimetría positiva ya que el valor del skew 2.75.\n",
    "En cambio al separar los outliers notamos que la distribución tiende a la simetría y parece tener una distribución más normal. \n",
    "Los outliers son más normales que los datos en conjuntos pero sigue siendo asimetrica positiva con un valor de 0,75."
   ]
  },
  {
   "attachments": {},
   "cell_type": "markdown",
   "metadata": {},
   "source": [
    "4 - ¿Qué tipo de curtosis presenta vuestra variable respuesta?"
   ]
  },
  {
   "cell_type": "code",
   "execution_count": 9,
   "metadata": {},
   "outputs": [
    {
     "name": "stdout",
     "output_type": "stream",
     "text": [
      "La curtosis del conjunto de datos es: \n",
      "KurtosistestResult(statistic=19.016521784124464, pvalue=1.2447206461942722e-80)\n",
      "---------------------\n",
      "La curtosis de los outliers es: \n",
      "KurtosistestResult(statistic=4.2094496684011276, pvalue=2.55993459130919e-05)\n",
      "---------------------\n",
      "La curtosis de los datos sin outliers es: \n",
      "KurtosistestResult(statistic=4.156429953383866, pvalue=3.232592204540685e-05)\n",
      "---------------------\n"
     ]
    }
   ],
   "source": [
    "#Vemos a través de kurtosistest el tipo de curtosis de la variable exposure\n",
    "print(f'''La curtosis del conjunto de datos es: \n",
    "{kurtosistest(df['exposure'])}''')\n",
    "print ('---------------------')\n",
    "print(f'''La curtosis de los outliers es: \n",
    "{kurtosistest(outliers['exposure'])}''')\n",
    "print ('---------------------')\n",
    "print(f'''La curtosis de los datos sin outliers es: \n",
    "{kurtosistest(df_limpio['exposure'])}''')\n",
    "print ('---------------------')"
   ]
  },
  {
   "attachments": {},
   "cell_type": "markdown",
   "metadata": {},
   "source": [
    "La variable respuesta tanto con como sin outliers es leptocúrtica y muestra una morfología afilada"
   ]
  },
  {
   "attachments": {},
   "cell_type": "markdown",
   "metadata": {},
   "source": [
    "5- ¿Es vuestra variable respuesta normal? Demostrarlo visual y analíticamente."
   ]
  },
  {
   "cell_type": "code",
   "execution_count": 10,
   "metadata": {},
   "outputs": [
    {
     "name": "stdout",
     "output_type": "stream",
     "text": [
      "La normalidad del conjunto de datos es: \n",
      "KstestResult(statistic=0.9829459870076139, pvalue=0.0)\n",
      "---------------------\n",
      "La normalidad de los outliers es: \n",
      "KstestResult(statistic=0.966824644549763, pvalue=1.559977630884e-312)\n",
      "---------------------\n",
      "La normalidad de los datos sin outliers es: \n",
      "KstestResult(statistic=0.9851781284996995, pvalue=0.0)\n",
      "---------------------\n"
     ]
    }
   ],
   "source": [
    "#Vemos la normalidad a través de kstest\n",
    "print(f'''La normalidad del conjunto de datos es: \n",
    "{kstest(df['exposure'], 'norm')}''')\n",
    "print ('---------------------')\n",
    "print(f'''La normalidad de los outliers es: \n",
    "{kstest(outliers['exposure'], 'norm')}''')\n",
    "print ('---------------------')\n",
    "print(f'''La normalidad de los datos sin outliers es: \n",
    "{kstest(df_limpio['exposure'], 'norm')}''')\n",
    "print ('---------------------')"
   ]
  },
  {
   "cell_type": "code",
   "execution_count": 11,
   "metadata": {},
   "outputs": [
    {
     "data": {
      "image/png": "[encoded data removed]",
      "text/plain": [
       "<Figure size 360x360 with 1 Axes>"
      ]
     },
     "metadata": {
      "needs_background": "light"
     },
     "output_type": "display_data"
    }
   ],
   "source": [
    "#Lo representamos graficamente\n",
    "sns.displot(df[\"exposure\"], kde = True, color = \"green\")\n",
    "plt.title('Conjunto de datos');"
   ]
  },
  {
   "cell_type": "code",
   "execution_count": 12,
   "metadata": {},
   "outputs": [
    {
     "data": {
      "text/plain": [
       "<Figure size 576x288 with 0 Axes>"
      ]
     },
     "metadata": {},
     "output_type": "display_data"
    },
    {
     "data": {
      "image/png": "[encoded data removed]",
      "text/plain": [
       "<Figure size 432x288 with 1 Axes>"
      ]
     },
     "metadata": {
      "needs_background": "light"
     },
     "output_type": "display_data"
    }
   ],
   "source": [
    "plt.figure(figsize =(8,4))\n",
    "fig = sm.qqplot(df[\"exposure\"], line ='45')\n",
    "plt.title('Conjunto de datos');"
   ]
  },
  {
   "cell_type": "code",
   "execution_count": 13,
   "metadata": {},
   "outputs": [
    {
     "data": {
      "image/png": "[encoded data removed]",
      "text/plain": [
       "<Figure size 360x360 with 1 Axes>"
      ]
     },
     "metadata": {
      "needs_background": "light"
     },
     "output_type": "display_data"
    }
   ],
   "source": [
    "sns.displot(outliers[\"exposure\"], kde = True, color = \"blue\")\n",
    "plt.title('Outilers');"
   ]
  },
  {
   "cell_type": "code",
   "execution_count": 14,
   "metadata": {},
   "outputs": [
    {
     "data": {
      "text/plain": [
       "<Figure size 576x288 with 0 Axes>"
      ]
     },
     "metadata": {},
     "output_type": "display_data"
    },
    {
     "data": {
      "image/png": "[encoded data removed]",
      "text/plain": [
       "<Figure size 432x288 with 1 Axes>"
      ]
     },
     "metadata": {
      "needs_background": "light"
     },
     "output_type": "display_data"
    }
   ],
   "source": [
    "plt.figure(figsize =(8,4))\n",
    "fig = sm.qqplot(outliers[\"exposure\"], line ='45')\n",
    "plt.title('Outilers');"
   ]
  },
  {
   "cell_type": "code",
   "execution_count": 15,
   "metadata": {},
   "outputs": [
    {
     "data": {
      "image/png": "[encoded data removed]",
      "text/plain": [
       "<Figure size 360x360 with 1 Axes>"
      ]
     },
     "metadata": {
      "needs_background": "light"
     },
     "output_type": "display_data"
    }
   ],
   "source": [
    "sns.displot(df_limpio[\"exposure\"], kde = True, color = \"grey\")\n",
    "plt.title('Datos sin outliers');"
   ]
  },
  {
   "cell_type": "code",
   "execution_count": 16,
   "metadata": {},
   "outputs": [
    {
     "data": {
      "text/plain": [
       "<Figure size 576x288 with 0 Axes>"
      ]
     },
     "metadata": {},
     "output_type": "display_data"
    },
    {
     "data": {
      "image/png": "[encoded data removed]",
      "text/plain": [
       "<Figure size 432x288 with 1 Axes>"
      ]
     },
     "metadata": {
      "needs_background": "light"
     },
     "output_type": "display_data"
    }
   ],
   "source": [
    "plt.figure(figsize =(8,4))\n",
    "fig = sm.qqplot(df_limpio[\"exposure\"], line ='45')\n",
    "plt.title('Datos sin outliers');"
   ]
  },
  {
   "attachments": {},
   "cell_type": "markdown",
   "metadata": {},
   "source": [
    "Nuestra variable respuesta no es normal, sin embargo al quitar los outliers tiende un poco mas a la normalidad."
   ]
  }
 ],
 "metadata": {
  "kernelspec": {
   "display_name": "Python 3.9.7 ('base')",
   "language": "python",
   "name": "python3"
  },
  "language_info": {
   "codemirror_mode": {
    "name": "ipython",
    "version": 3
   },
   "file_extension": ".py",
   "mimetype": "text/x-python",
   "name": "python",
   "nbconvert_exporter": "python",
   "pygments_lexer": "ipython3",
   "version": "3.9.7"
  },
  "orig_nbformat": 4,
  "vscode": {
   "interpreter": {
    "hash": "651c3b7b3f466eb030aa737f279c846be4db9cba49a2f229278cab5e41121ed5"
   }
  }
 },
 "nbformat": 4,
 "nbformat_minor": 2
}
