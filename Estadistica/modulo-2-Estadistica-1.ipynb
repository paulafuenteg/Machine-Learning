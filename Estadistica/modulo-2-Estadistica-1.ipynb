{
 "cells": [
  {
   "attachments": {},
   "cell_type": "markdown",
   "metadata": {},
   "source": [
    "1- Buscar un conjunto de datos a analizar: \n",
    "\n",
    "Se recomienda que el conjunto de datos a analizar tenga variables numéricas y categóricas. Ya que también se analizarán."
   ]
  },
  {
   "cell_type": "code",
   "execution_count": 5,
   "metadata": {},
   "outputs": [],
   "source": [
    "import pandas as pd\n",
    "import numpy as np\n",
    "from scipy import stats\n",
    "pd.options.display.max_columns = None\n"
   ]
  },
  {
   "attachments": {},
   "cell_type": "markdown",
   "metadata": {},
   "source": [
    "La base de datos que hemos seleccionado es el dataset de Sephora, dejamos el link a mano para poder consultar las descripciones de las columnas\n",
    "https://www.kaggle.com/datasets/raghadalharbi/all-products-available-on-sephora-website?resource=download\n"
   ]
  },
  {
   "cell_type": "code",
   "execution_count": 6,
   "metadata": {},
   "outputs": [
    {
     "data": {
      "text/html": [
       "<div>\n",
       "<style scoped>\n",
       "    .dataframe tbody tr th:only-of-type {\n",
       "        vertical-align: middle;\n",
       "    }\n",
       "\n",
       "    .dataframe tbody tr th {\n",
       "        vertical-align: top;\n",
       "    }\n",
       "\n",
       "    .dataframe thead th {\n",
       "        text-align: right;\n",
       "    }\n",
       "</style>\n",
       "<table border=\"1\" class=\"dataframe\">\n",
       "  <thead>\n",
       "    <tr style=\"text-align: right;\">\n",
       "      <th></th>\n",
       "      <th>id</th>\n",
       "      <th>brand</th>\n",
       "      <th>category</th>\n",
       "      <th>name</th>\n",
       "      <th>size</th>\n",
       "      <th>rating</th>\n",
       "      <th>number_of_reviews</th>\n",
       "      <th>love</th>\n",
       "      <th>price</th>\n",
       "      <th>value_price</th>\n",
       "      <th>URL</th>\n",
       "      <th>MarketingFlags</th>\n",
       "      <th>MarketingFlags_content</th>\n",
       "      <th>options</th>\n",
       "      <th>details</th>\n",
       "      <th>how_to_use</th>\n",
       "      <th>ingredients</th>\n",
       "      <th>online_only</th>\n",
       "      <th>exclusive</th>\n",
       "      <th>limited_edition</th>\n",
       "      <th>limited_time_offer</th>\n",
       "    </tr>\n",
       "  </thead>\n",
       "  <tbody>\n",
       "    <tr>\n",
       "      <th>0</th>\n",
       "      <td>2218774</td>\n",
       "      <td>Acqua Di Parma</td>\n",
       "      <td>Fragrance</td>\n",
       "      <td>Blu Mediterraneo MINIATURE Set</td>\n",
       "      <td>5 x 0.16oz/5mL</td>\n",
       "      <td>4.0</td>\n",
       "      <td>4</td>\n",
       "      <td>3002</td>\n",
       "      <td>66.0</td>\n",
       "      <td>75.0</td>\n",
       "      <td>https://www.sephora.com/product/blu-mediterran...</td>\n",
       "      <td>True</td>\n",
       "      <td>online only</td>\n",
       "      <td>no options</td>\n",
       "      <td>This enchanting set comes in a specially handc...</td>\n",
       "      <td>Suggested Usage:-Fragrance is intensified by t...</td>\n",
       "      <td>Arancia di Capri Eau de Toilette: Alcohol Dena...</td>\n",
       "      <td>1</td>\n",
       "      <td>0</td>\n",
       "      <td>0</td>\n",
       "      <td>0</td>\n",
       "    </tr>\n",
       "    <tr>\n",
       "      <th>1</th>\n",
       "      <td>2044816</td>\n",
       "      <td>Acqua Di Parma</td>\n",
       "      <td>Cologne</td>\n",
       "      <td>Colonia</td>\n",
       "      <td>0.7 oz/ 20 mL</td>\n",
       "      <td>4.5</td>\n",
       "      <td>76</td>\n",
       "      <td>2700</td>\n",
       "      <td>66.0</td>\n",
       "      <td>66.0</td>\n",
       "      <td>https://www.sephora.com/product/colonia-P16360...</td>\n",
       "      <td>True</td>\n",
       "      <td>online only</td>\n",
       "      <td>- 0.7 oz/ 20 mL  Spray  - 1.7 oz/ 50 mL Eau d...</td>\n",
       "      <td>An elegant timeless scent filled with a fresh-...</td>\n",
       "      <td>no instructions</td>\n",
       "      <td>unknown</td>\n",
       "      <td>1</td>\n",
       "      <td>0</td>\n",
       "      <td>0</td>\n",
       "      <td>0</td>\n",
       "    </tr>\n",
       "  </tbody>\n",
       "</table>\n",
       "</div>"
      ],
      "text/plain": [
       "        id           brand   category                            name  \\\n",
       "0  2218774  Acqua Di Parma  Fragrance  Blu Mediterraneo MINIATURE Set   \n",
       "1  2044816  Acqua Di Parma    Cologne                         Colonia   \n",
       "\n",
       "             size  rating  number_of_reviews  love  price  value_price  \\\n",
       "0  5 x 0.16oz/5mL     4.0                  4  3002   66.0         75.0   \n",
       "1   0.7 oz/ 20 mL     4.5                 76  2700   66.0         66.0   \n",
       "\n",
       "                                                 URL  MarketingFlags  \\\n",
       "0  https://www.sephora.com/product/blu-mediterran...            True   \n",
       "1  https://www.sephora.com/product/colonia-P16360...            True   \n",
       "\n",
       "  MarketingFlags_content                                            options  \\\n",
       "0            online only                                         no options   \n",
       "1            online only   - 0.7 oz/ 20 mL  Spray  - 1.7 oz/ 50 mL Eau d...   \n",
       "\n",
       "                                             details  \\\n",
       "0  This enchanting set comes in a specially handc...   \n",
       "1  An elegant timeless scent filled with a fresh-...   \n",
       "\n",
       "                                          how_to_use  \\\n",
       "0  Suggested Usage:-Fragrance is intensified by t...   \n",
       "1                                    no instructions   \n",
       "\n",
       "                                         ingredients  online_only  exclusive  \\\n",
       "0  Arancia di Capri Eau de Toilette: Alcohol Dena...            1          0   \n",
       "1                                            unknown            1          0   \n",
       "\n",
       "   limited_edition  limited_time_offer  \n",
       "0                0                   0  \n",
       "1                0                   0  "
      ]
     },
     "execution_count": 6,
     "metadata": {},
     "output_type": "execute_result"
    }
   ],
   "source": [
    "df = pd.read_csv('../datos/sephora_website_dataset.csv')\n",
    "df.head(2)"
   ]
  },
  {
   "cell_type": "code",
   "execution_count": 7,
   "metadata": {},
   "outputs": [
    {
     "name": "stdout",
     "output_type": "stream",
     "text": [
      "<class 'pandas.core.frame.DataFrame'>\n",
      "RangeIndex: 9168 entries, 0 to 9167\n",
      "Data columns (total 21 columns):\n",
      " #   Column                  Non-Null Count  Dtype  \n",
      "---  ------                  --------------  -----  \n",
      " 0   id                      9168 non-null   int64  \n",
      " 1   brand                   9168 non-null   object \n",
      " 2   category                9168 non-null   object \n",
      " 3   name                    9168 non-null   object \n",
      " 4   size                    9168 non-null   object \n",
      " 5   rating                  9168 non-null   float64\n",
      " 6   number_of_reviews       9168 non-null   int64  \n",
      " 7   love                    9168 non-null   int64  \n",
      " 8   price                   9168 non-null   float64\n",
      " 9   value_price             9168 non-null   float64\n",
      " 10  URL                     9168 non-null   object \n",
      " 11  MarketingFlags          9168 non-null   bool   \n",
      " 12  MarketingFlags_content  9168 non-null   object \n",
      " 13  options                 9168 non-null   object \n",
      " 14  details                 9168 non-null   object \n",
      " 15  how_to_use              9168 non-null   object \n",
      " 16  ingredients             9168 non-null   object \n",
      " 17  online_only             9168 non-null   int64  \n",
      " 18  exclusive               9168 non-null   int64  \n",
      " 19  limited_edition         9168 non-null   int64  \n",
      " 20  limited_time_offer      9168 non-null   int64  \n",
      "dtypes: bool(1), float64(3), int64(7), object(10)\n",
      "memory usage: 1.4+ MB\n"
     ]
    }
   ],
   "source": [
    "#Exploramos el dataset\n",
    "df.info()"
   ]
  },
  {
   "cell_type": "code",
   "execution_count": 8,
   "metadata": {},
   "outputs": [],
   "source": [
    "columnas_nuevas = {col : col.lower() for col in df.columns} #Cambiamos todas las columnas a minuscula"
   ]
  },
  {
   "cell_type": "code",
   "execution_count": 9,
   "metadata": {},
   "outputs": [
    {
     "data": {
      "text/html": [
       "<div>\n",
       "<style scoped>\n",
       "    .dataframe tbody tr th:only-of-type {\n",
       "        vertical-align: middle;\n",
       "    }\n",
       "\n",
       "    .dataframe tbody tr th {\n",
       "        vertical-align: top;\n",
       "    }\n",
       "\n",
       "    .dataframe thead th {\n",
       "        text-align: right;\n",
       "    }\n",
       "</style>\n",
       "<table border=\"1\" class=\"dataframe\">\n",
       "  <thead>\n",
       "    <tr style=\"text-align: right;\">\n",
       "      <th></th>\n",
       "      <th>id</th>\n",
       "      <th>brand</th>\n",
       "      <th>category</th>\n",
       "      <th>name</th>\n",
       "      <th>size</th>\n",
       "      <th>rating</th>\n",
       "      <th>number_of_reviews</th>\n",
       "      <th>love</th>\n",
       "      <th>price</th>\n",
       "      <th>value_price</th>\n",
       "      <th>url</th>\n",
       "      <th>marketingflags</th>\n",
       "      <th>marketingflags_content</th>\n",
       "      <th>options</th>\n",
       "      <th>details</th>\n",
       "      <th>how_to_use</th>\n",
       "      <th>ingredients</th>\n",
       "      <th>online_only</th>\n",
       "      <th>exclusive</th>\n",
       "      <th>limited_edition</th>\n",
       "      <th>limited_time_offer</th>\n",
       "    </tr>\n",
       "  </thead>\n",
       "  <tbody>\n",
       "    <tr>\n",
       "      <th>0</th>\n",
       "      <td>2218774</td>\n",
       "      <td>Acqua Di Parma</td>\n",
       "      <td>Fragrance</td>\n",
       "      <td>Blu Mediterraneo MINIATURE Set</td>\n",
       "      <td>5 x 0.16oz/5mL</td>\n",
       "      <td>4.0</td>\n",
       "      <td>4</td>\n",
       "      <td>3002</td>\n",
       "      <td>66.0</td>\n",
       "      <td>75.0</td>\n",
       "      <td>https://www.sephora.com/product/blu-mediterran...</td>\n",
       "      <td>True</td>\n",
       "      <td>online only</td>\n",
       "      <td>no options</td>\n",
       "      <td>This enchanting set comes in a specially handc...</td>\n",
       "      <td>Suggested Usage:-Fragrance is intensified by t...</td>\n",
       "      <td>Arancia di Capri Eau de Toilette: Alcohol Dena...</td>\n",
       "      <td>1</td>\n",
       "      <td>0</td>\n",
       "      <td>0</td>\n",
       "      <td>0</td>\n",
       "    </tr>\n",
       "    <tr>\n",
       "      <th>1</th>\n",
       "      <td>2044816</td>\n",
       "      <td>Acqua Di Parma</td>\n",
       "      <td>Cologne</td>\n",
       "      <td>Colonia</td>\n",
       "      <td>0.7 oz/ 20 mL</td>\n",
       "      <td>4.5</td>\n",
       "      <td>76</td>\n",
       "      <td>2700</td>\n",
       "      <td>66.0</td>\n",
       "      <td>66.0</td>\n",
       "      <td>https://www.sephora.com/product/colonia-P16360...</td>\n",
       "      <td>True</td>\n",
       "      <td>online only</td>\n",
       "      <td>- 0.7 oz/ 20 mL  Spray  - 1.7 oz/ 50 mL Eau d...</td>\n",
       "      <td>An elegant timeless scent filled with a fresh-...</td>\n",
       "      <td>no instructions</td>\n",
       "      <td>unknown</td>\n",
       "      <td>1</td>\n",
       "      <td>0</td>\n",
       "      <td>0</td>\n",
       "      <td>0</td>\n",
       "    </tr>\n",
       "  </tbody>\n",
       "</table>\n",
       "</div>"
      ],
      "text/plain": [
       "        id           brand   category                            name  \\\n",
       "0  2218774  Acqua Di Parma  Fragrance  Blu Mediterraneo MINIATURE Set   \n",
       "1  2044816  Acqua Di Parma    Cologne                         Colonia   \n",
       "\n",
       "             size  rating  number_of_reviews  love  price  value_price  \\\n",
       "0  5 x 0.16oz/5mL     4.0                  4  3002   66.0         75.0   \n",
       "1   0.7 oz/ 20 mL     4.5                 76  2700   66.0         66.0   \n",
       "\n",
       "                                                 url  marketingflags  \\\n",
       "0  https://www.sephora.com/product/blu-mediterran...            True   \n",
       "1  https://www.sephora.com/product/colonia-P16360...            True   \n",
       "\n",
       "  marketingflags_content                                            options  \\\n",
       "0            online only                                         no options   \n",
       "1            online only   - 0.7 oz/ 20 mL  Spray  - 1.7 oz/ 50 mL Eau d...   \n",
       "\n",
       "                                             details  \\\n",
       "0  This enchanting set comes in a specially handc...   \n",
       "1  An elegant timeless scent filled with a fresh-...   \n",
       "\n",
       "                                          how_to_use  \\\n",
       "0  Suggested Usage:-Fragrance is intensified by t...   \n",
       "1                                    no instructions   \n",
       "\n",
       "                                         ingredients  online_only  exclusive  \\\n",
       "0  Arancia di Capri Eau de Toilette: Alcohol Dena...            1          0   \n",
       "1                                            unknown            1          0   \n",
       "\n",
       "   limited_edition  limited_time_offer  \n",
       "0                0                   0  \n",
       "1                0                   0  "
      ]
     },
     "execution_count": 9,
     "metadata": {},
     "output_type": "execute_result"
    }
   ],
   "source": [
    "df.rename(columns = columnas_nuevas, inplace = True)\n",
    "df.head(2)"
   ]
  },
  {
   "cell_type": "code",
   "execution_count": 10,
   "metadata": {},
   "outputs": [
    {
     "data": {
      "text/plain": [
       "4.5    3527\n",
       "4.0    2853\n",
       "3.5    1051\n",
       "5.0     872\n",
       "0.0     398\n",
       "3.0     308\n",
       "2.5      88\n",
       "2.0      39\n",
       "1.0      23\n",
       "1.5       9\n",
       "Name: rating, dtype: int64"
      ]
     },
     "execution_count": 10,
     "metadata": {},
     "output_type": "execute_result"
    }
   ],
   "source": [
    "df['rating'].value_counts()"
   ]
  },
  {
   "cell_type": "code",
   "execution_count": 11,
   "metadata": {},
   "outputs": [
    {
     "data": {
      "text/plain": [
       "Perfume                      665\n",
       "Moisturizers                 451\n",
       "Face Serums                  384\n",
       "Value & Gift Sets            378\n",
       "Face Wash & Cleansers        247\n",
       "                            ... \n",
       "Wellness                       1\n",
       "High Tech Tools                1\n",
       "Hair Styling & Treatments      1\n",
       "Curls & Coils                  1\n",
       "Lid Shadow Brush               1\n",
       "Name: category, Length: 143, dtype: int64"
      ]
     },
     "execution_count": 11,
     "metadata": {},
     "output_type": "execute_result"
    }
   ],
   "source": [
    "df['category'].value_counts()"
   ]
  },
  {
   "cell_type": "code",
   "execution_count": 12,
   "metadata": {},
   "outputs": [
    {
     "data": {
      "text/html": [
       "<div>\n",
       "<style scoped>\n",
       "    .dataframe tbody tr th:only-of-type {\n",
       "        vertical-align: middle;\n",
       "    }\n",
       "\n",
       "    .dataframe tbody tr th {\n",
       "        vertical-align: top;\n",
       "    }\n",
       "\n",
       "    .dataframe thead th {\n",
       "        text-align: right;\n",
       "    }\n",
       "</style>\n",
       "<table border=\"1\" class=\"dataframe\">\n",
       "  <thead>\n",
       "    <tr style=\"text-align: right;\">\n",
       "      <th></th>\n",
       "      <th>count</th>\n",
       "      <th>mean</th>\n",
       "      <th>std</th>\n",
       "      <th>min</th>\n",
       "      <th>25%</th>\n",
       "      <th>50%</th>\n",
       "      <th>75%</th>\n",
       "      <th>max</th>\n",
       "    </tr>\n",
       "  </thead>\n",
       "  <tbody>\n",
       "    <tr>\n",
       "      <th>id</th>\n",
       "      <td>9168.0</td>\n",
       "      <td>1.962952e+06</td>\n",
       "      <td>385971.360901</td>\n",
       "      <td>50.0</td>\n",
       "      <td>1819453.0</td>\n",
       "      <td>2072353.5</td>\n",
       "      <td>2230591.0</td>\n",
       "      <td>2359685.0</td>\n",
       "    </tr>\n",
       "    <tr>\n",
       "      <th>rating</th>\n",
       "      <td>9168.0</td>\n",
       "      <td>3.990020e+00</td>\n",
       "      <td>1.007707</td>\n",
       "      <td>0.0</td>\n",
       "      <td>4.0</td>\n",
       "      <td>4.0</td>\n",
       "      <td>4.5</td>\n",
       "      <td>5.0</td>\n",
       "    </tr>\n",
       "    <tr>\n",
       "      <th>number_of_reviews</th>\n",
       "      <td>9168.0</td>\n",
       "      <td>2.821392e+02</td>\n",
       "      <td>890.642028</td>\n",
       "      <td>0.0</td>\n",
       "      <td>10.0</td>\n",
       "      <td>46.0</td>\n",
       "      <td>210.0</td>\n",
       "      <td>19000.0</td>\n",
       "    </tr>\n",
       "    <tr>\n",
       "      <th>love</th>\n",
       "      <td>9168.0</td>\n",
       "      <td>1.627859e+04</td>\n",
       "      <td>42606.514471</td>\n",
       "      <td>0.0</td>\n",
       "      <td>1600.0</td>\n",
       "      <td>4800.0</td>\n",
       "      <td>13800.0</td>\n",
       "      <td>1300000.0</td>\n",
       "    </tr>\n",
       "    <tr>\n",
       "      <th>price</th>\n",
       "      <td>9168.0</td>\n",
       "      <td>5.006324e+01</td>\n",
       "      <td>47.164989</td>\n",
       "      <td>2.0</td>\n",
       "      <td>24.0</td>\n",
       "      <td>35.0</td>\n",
       "      <td>59.0</td>\n",
       "      <td>549.0</td>\n",
       "    </tr>\n",
       "    <tr>\n",
       "      <th>value_price</th>\n",
       "      <td>9168.0</td>\n",
       "      <td>5.182359e+01</td>\n",
       "      <td>49.459020</td>\n",
       "      <td>2.0</td>\n",
       "      <td>25.0</td>\n",
       "      <td>35.0</td>\n",
       "      <td>60.0</td>\n",
       "      <td>549.0</td>\n",
       "    </tr>\n",
       "    <tr>\n",
       "      <th>online_only</th>\n",
       "      <td>9168.0</td>\n",
       "      <td>2.348386e-01</td>\n",
       "      <td>0.423921</td>\n",
       "      <td>0.0</td>\n",
       "      <td>0.0</td>\n",
       "      <td>0.0</td>\n",
       "      <td>0.0</td>\n",
       "      <td>1.0</td>\n",
       "    </tr>\n",
       "    <tr>\n",
       "      <th>exclusive</th>\n",
       "      <td>9168.0</td>\n",
       "      <td>2.647251e-01</td>\n",
       "      <td>0.441211</td>\n",
       "      <td>0.0</td>\n",
       "      <td>0.0</td>\n",
       "      <td>0.0</td>\n",
       "      <td>1.0</td>\n",
       "      <td>1.0</td>\n",
       "    </tr>\n",
       "    <tr>\n",
       "      <th>limited_edition</th>\n",
       "      <td>9168.0</td>\n",
       "      <td>9.184119e-02</td>\n",
       "      <td>0.288817</td>\n",
       "      <td>0.0</td>\n",
       "      <td>0.0</td>\n",
       "      <td>0.0</td>\n",
       "      <td>0.0</td>\n",
       "      <td>1.0</td>\n",
       "    </tr>\n",
       "    <tr>\n",
       "      <th>limited_time_offer</th>\n",
       "      <td>9168.0</td>\n",
       "      <td>3.272251e-04</td>\n",
       "      <td>0.018087</td>\n",
       "      <td>0.0</td>\n",
       "      <td>0.0</td>\n",
       "      <td>0.0</td>\n",
       "      <td>0.0</td>\n",
       "      <td>1.0</td>\n",
       "    </tr>\n",
       "  </tbody>\n",
       "</table>\n",
       "</div>"
      ],
      "text/plain": [
       "                     count          mean            std   min        25%  \\\n",
       "id                  9168.0  1.962952e+06  385971.360901  50.0  1819453.0   \n",
       "rating              9168.0  3.990020e+00       1.007707   0.0        4.0   \n",
       "number_of_reviews   9168.0  2.821392e+02     890.642028   0.0       10.0   \n",
       "love                9168.0  1.627859e+04   42606.514471   0.0     1600.0   \n",
       "price               9168.0  5.006324e+01      47.164989   2.0       24.0   \n",
       "value_price         9168.0  5.182359e+01      49.459020   2.0       25.0   \n",
       "online_only         9168.0  2.348386e-01       0.423921   0.0        0.0   \n",
       "exclusive           9168.0  2.647251e-01       0.441211   0.0        0.0   \n",
       "limited_edition     9168.0  9.184119e-02       0.288817   0.0        0.0   \n",
       "limited_time_offer  9168.0  3.272251e-04       0.018087   0.0        0.0   \n",
       "\n",
       "                          50%        75%        max  \n",
       "id                  2072353.5  2230591.0  2359685.0  \n",
       "rating                    4.0        4.5        5.0  \n",
       "number_of_reviews        46.0      210.0    19000.0  \n",
       "love                   4800.0    13800.0  1300000.0  \n",
       "price                    35.0       59.0      549.0  \n",
       "value_price              35.0       60.0      549.0  \n",
       "online_only               0.0        0.0        1.0  \n",
       "exclusive                 0.0        1.0        1.0  \n",
       "limited_edition           0.0        0.0        1.0  \n",
       "limited_time_offer        0.0        0.0        1.0  "
      ]
     },
     "execution_count": 12,
     "metadata": {},
     "output_type": "execute_result"
    }
   ],
   "source": [
    "df.describe().T"
   ]
  },
  {
   "cell_type": "code",
   "execution_count": 13,
   "metadata": {},
   "outputs": [
    {
     "data": {
      "text/plain": [
       "0"
      ]
     },
     "execution_count": 13,
     "metadata": {},
     "output_type": "execute_result"
    }
   ],
   "source": [
    "df.duplicated().sum()"
   ]
  },
  {
   "attachments": {},
   "cell_type": "markdown",
   "metadata": {},
   "source": [
    "2- Extraer los siguentes estadísiticos del conjunto de datos para varias de las variables disponibles:\n",
    "- Media\n",
    "- Desviación con respecto de la media\n",
    "- Varianza\n",
    "- Desviación típica\n",
    "- Moda\n",
    "- Mediana\n",
    "- Media ponderada\n",
    "- Robustez\n",
    "- Coeficiente de variación\n"
   ]
  },
  {
   "attachments": {},
   "cell_type": "markdown",
   "metadata": {},
   "source": [
    "### Medias\n",
    "\n",
    "---"
   ]
  },
  {
   "cell_type": "code",
   "execution_count": 14,
   "metadata": {},
   "outputs": [
    {
     "data": {
      "text/plain": [
       "50.06"
      ]
     },
     "execution_count": 14,
     "metadata": {},
     "output_type": "execute_result"
    }
   ],
   "source": [
    "# Media de precios\n",
    "media_precio = df['price'].mean().round(2)\n",
    "media_precio"
   ]
  },
  {
   "cell_type": "code",
   "execution_count": 15,
   "metadata": {},
   "outputs": [
    {
     "data": {
      "text/plain": [
       "51.82"
      ]
     },
     "execution_count": 15,
     "metadata": {},
     "output_type": "execute_result"
    }
   ],
   "source": [
    "# Media valor del producto\n",
    "media_valor = df['value_price'].mean().round(2)\n",
    "media_valor"
   ]
  },
  {
   "cell_type": "code",
   "execution_count": 16,
   "metadata": {},
   "outputs": [
    {
     "data": {
      "text/plain": [
       "3.99"
      ]
     },
     "execution_count": 16,
     "metadata": {},
     "output_type": "execute_result"
    }
   ],
   "source": [
    "# Media valoracion usuarios\n",
    "media_rating = df['rating'].mean().round(2)\n",
    "media_rating"
   ]
  },
  {
   "attachments": {},
   "cell_type": "markdown",
   "metadata": {},
   "source": [
    "El precio medio de los productos es 50,06€ y el valor medio 51,82€, son precios muy cercanos con lo que podemos concluir que no hay grandes descuentos en los productos, estan los precios muy ajustados a su valor.\n",
    "\n",
    "Por otro lado la media de las valoracion es un 3,99 sobre 5 con lo cual podemos pensar que los productos en general tienen buenas valoraciones."
   ]
  },
  {
   "attachments": {},
   "cell_type": "markdown",
   "metadata": {},
   "source": [
    "### Desviación con respecto a la media\n",
    "\n",
    "---"
   ]
  },
  {
   "cell_type": "code",
   "execution_count": 17,
   "metadata": {},
   "outputs": [
    {
     "data": {
      "text/plain": [
       "0        15.94\n",
       "1        15.94\n",
       "2       129.94\n",
       "3        69.94\n",
       "4        21.94\n",
       "         ...  \n",
       "9163     44.06\n",
       "9164     35.06\n",
       "9165     34.06\n",
       "9166      0.06\n",
       "9167      0.06\n",
       "Name: price, Length: 9168, dtype: float64"
      ]
     },
     "execution_count": 17,
     "metadata": {},
     "output_type": "execute_result"
    }
   ],
   "source": [
    "# Precio\n",
    "desv_media_precio = np.abs(df['price'] - media_precio)\n",
    "desv_media_precio"
   ]
  },
  {
   "cell_type": "code",
   "execution_count": 18,
   "metadata": {},
   "outputs": [
    {
     "data": {
      "text/plain": [
       "0        23.18\n",
       "1        14.18\n",
       "2       128.18\n",
       "3        68.18\n",
       "4        28.18\n",
       "         ...  \n",
       "9163     45.82\n",
       "9164     24.82\n",
       "9165     35.82\n",
       "9166      1.82\n",
       "9167      1.82\n",
       "Name: value_price, Length: 9168, dtype: float64"
      ]
     },
     "execution_count": 18,
     "metadata": {},
     "output_type": "execute_result"
    }
   ],
   "source": [
    "#Valor\n",
    "desv_media_valor_precio = np.abs(df['value_price'] - media_valor)\n",
    "desv_media_valor_precio"
   ]
  },
  {
   "cell_type": "code",
   "execution_count": 19,
   "metadata": {},
   "outputs": [
    {
     "data": {
      "text/plain": [
       "0       0.01\n",
       "1       0.51\n",
       "2       0.51\n",
       "3       0.51\n",
       "4       0.49\n",
       "        ... \n",
       "9163    1.99\n",
       "9164    3.99\n",
       "9165    3.99\n",
       "9166    1.01\n",
       "9167    3.99\n",
       "Name: rating, Length: 9168, dtype: float64"
      ]
     },
     "execution_count": 19,
     "metadata": {},
     "output_type": "execute_result"
    }
   ],
   "source": [
    "#Valoracion\n",
    "desv_media_rating= np.abs(df['rating'] - media_rating)\n",
    "desv_media_rating"
   ]
  },
  {
   "attachments": {},
   "cell_type": "markdown",
   "metadata": {},
   "source": [
    "Con este calculo debido a la gran cantidad de datos no se observa claramente ninguna conclusión significativa. A simple vista podemos ver que hay productos que se separan mucho de la media de precios y valor y aparentemente en las valoraciones hay menos desviacion salvo en algunos productos no valorados."
   ]
  },
  {
   "attachments": {},
   "cell_type": "markdown",
   "metadata": {},
   "source": [
    "### Varianza\n",
    "\n",
    "---"
   ]
  },
  {
   "cell_type": "code",
   "execution_count": 20,
   "metadata": {},
   "outputs": [
    {
     "data": {
      "text/plain": [
       "2224.5361947109777"
      ]
     },
     "execution_count": 20,
     "metadata": {},
     "output_type": "execute_result"
    }
   ],
   "source": [
    "# Precio\n",
    "varianza_precio = df['price'].var()\n",
    "varianza_precio"
   ]
  },
  {
   "cell_type": "code",
   "execution_count": 21,
   "metadata": {},
   "outputs": [
    {
     "data": {
      "text/plain": [
       "2446.194684800295"
      ]
     },
     "execution_count": 21,
     "metadata": {},
     "output_type": "execute_result"
    }
   ],
   "source": [
    "# Valor\n",
    "varianza_valor = df['value_price'].var()\n",
    "varianza_valor"
   ]
  },
  {
   "cell_type": "code",
   "execution_count": 22,
   "metadata": {},
   "outputs": [
    {
     "data": {
      "text/plain": [
       "1.0154725424311082"
      ]
     },
     "execution_count": 22,
     "metadata": {},
     "output_type": "execute_result"
    }
   ],
   "source": [
    "# Valoracion\n",
    "varianza_rating = df['rating'].var()\n",
    "varianza_rating"
   ]
  },
  {
   "attachments": {},
   "cell_type": "markdown",
   "metadata": {},
   "source": [
    "Como la varianza del precio y valor es muy alta podemos suponer que hay una alta dispersión de los datos, es decir algún valor atípicos, productos con precios muy por encima o muy por debajo de la media, con lo cual podemos concluir que la media no es muy representativa en este caso.\n",
    "\n",
    "Por otro lado la varianza de la valoración al ser muy cercana a 0 nos indica que los valores son mucho menos dispersos respecto a la media, y por tanto esta es más representativa."
   ]
  },
  {
   "attachments": {},
   "cell_type": "markdown",
   "metadata": {},
   "source": [
    "### Desviación típica\n",
    "\n",
    "---"
   ]
  },
  {
   "cell_type": "code",
   "execution_count": 23,
   "metadata": {},
   "outputs": [
    {
     "data": {
      "text/plain": [
       "47.16498907782104"
      ]
     },
     "execution_count": 23,
     "metadata": {},
     "output_type": "execute_result"
    }
   ],
   "source": [
    "# Precio\n",
    "desvtipica_precio = df['price'].std()\n",
    "desvtipica_precio"
   ]
  },
  {
   "cell_type": "code",
   "execution_count": 24,
   "metadata": {},
   "outputs": [
    {
     "data": {
      "text/plain": [
       "49.45902025718155"
      ]
     },
     "execution_count": 24,
     "metadata": {},
     "output_type": "execute_result"
    }
   ],
   "source": [
    "#Valor\n",
    "desvtipica_valor = df['value_price'].std()\n",
    "desvtipica_valor"
   ]
  },
  {
   "cell_type": "code",
   "execution_count": 25,
   "metadata": {},
   "outputs": [
    {
     "data": {
      "text/plain": [
       "1.0077065755621069"
      ]
     },
     "execution_count": 25,
     "metadata": {},
     "output_type": "execute_result"
    }
   ],
   "source": [
    "# Valoracion\n",
    "desvtipica_rating = df['rating'].std()\n",
    "desvtipica_rating"
   ]
  },
  {
   "attachments": {},
   "cell_type": "markdown",
   "metadata": {},
   "source": [
    "Podemos confirmar que la dispersión de los precios es de casi 50€, siendo muy significativa ya que es casi el mismo valor que la media, tanto en su precio como en el valor.\n",
    "\n",
    "En cuanto a las valoraciones la desviación es de 1 punto, que podría considerarse alta ya que los datos van del 1 al 5, por lo que podemos considear que hay varios productos sin valorar."
   ]
  },
  {
   "attachments": {},
   "cell_type": "markdown",
   "metadata": {},
   "source": [
    "### Moda\n",
    "\n",
    "---"
   ]
  },
  {
   "cell_type": "code",
   "execution_count": 26,
   "metadata": {},
   "outputs": [
    {
     "data": {
      "text/plain": [
       "25.0"
      ]
     },
     "execution_count": 26,
     "metadata": {},
     "output_type": "execute_result"
    }
   ],
   "source": [
    "# Precio\n",
    "moda_precio = df['price'].mode()[0]\n",
    "moda_precio"
   ]
  },
  {
   "cell_type": "code",
   "execution_count": 27,
   "metadata": {},
   "outputs": [
    {
     "data": {
      "text/plain": [
       "30.0"
      ]
     },
     "execution_count": 27,
     "metadata": {},
     "output_type": "execute_result"
    }
   ],
   "source": [
    "# Valor\n",
    "moda_valor = df['value_price'].mode()[0]\n",
    "moda_valor"
   ]
  },
  {
   "cell_type": "code",
   "execution_count": 28,
   "metadata": {},
   "outputs": [
    {
     "data": {
      "text/plain": [
       "4.5"
      ]
     },
     "execution_count": 28,
     "metadata": {},
     "output_type": "execute_result"
    }
   ],
   "source": [
    "# rating\n",
    "moda_rating = df['rating'].mode()[0]\n",
    "moda_rating"
   ]
  },
  {
   "attachments": {},
   "cell_type": "markdown",
   "metadata": {},
   "source": [
    "Vemos que el precio más repetido son 25€ que se encuentra debajo de la media, con lo que concluimos que hay algún producto con precios muy elevados que descompensan la media, tanto en el precio como en el valor.\n",
    "\n",
    "En cuanto a la valoración vemos que la más repetida es 4.5 puntos, al compararlo con la media podemos confirmar que hay muchos productos sin valorar que hacen disminuir la media a 3.99."
   ]
  },
  {
   "attachments": {},
   "cell_type": "markdown",
   "metadata": {},
   "source": [
    "### Mediana\n",
    "\n",
    "---"
   ]
  },
  {
   "cell_type": "code",
   "execution_count": 29,
   "metadata": {},
   "outputs": [
    {
     "data": {
      "text/plain": [
       "35.0"
      ]
     },
     "execution_count": 29,
     "metadata": {},
     "output_type": "execute_result"
    }
   ],
   "source": [
    "# Precio\n",
    "mediana_precio = df['price'].median()\n",
    "mediana_precio"
   ]
  },
  {
   "cell_type": "code",
   "execution_count": 30,
   "metadata": {},
   "outputs": [
    {
     "data": {
      "text/plain": [
       "35.0"
      ]
     },
     "execution_count": 30,
     "metadata": {},
     "output_type": "execute_result"
    }
   ],
   "source": [
    "# Valor\n",
    "mediana_valor = df['value_price'].median()\n",
    "mediana_valor"
   ]
  },
  {
   "cell_type": "code",
   "execution_count": 31,
   "metadata": {},
   "outputs": [
    {
     "data": {
      "text/plain": [
       "4.0"
      ]
     },
     "execution_count": 31,
     "metadata": {},
     "output_type": "execute_result"
    }
   ],
   "source": [
    "# rating\n",
    "mediana_rating = df['rating'].median()\n",
    "mediana_rating"
   ]
  },
  {
   "attachments": {},
   "cell_type": "markdown",
   "metadata": {},
   "source": [
    "La mediana, al estar más cerca de la moda que de la media nos confirma lo comentado anteriormente de productos con precios excesivamente altos con respecto al resto.\n",
    "\n",
    "La mediana de las valoraciones sin embargo no dista tanto de la media con lo que podemos concluir que la media es bastante representativa"
   ]
  },
  {
   "attachments": {},
   "cell_type": "markdown",
   "metadata": {},
   "source": [
    "### Media ponderada\n",
    "\n",
    "---"
   ]
  },
  {
   "cell_type": "code",
   "execution_count": 32,
   "metadata": {},
   "outputs": [
    {
     "data": {
      "text/plain": [
       "50.0"
      ]
     },
     "execution_count": 32,
     "metadata": {},
     "output_type": "execute_result"
    }
   ],
   "source": [
    "# Precio\n",
    "w = np.random.randint(0,100, df.shape[0])\n",
    "\n",
    "avg_precio = np.average(df[\"price\"], weights=w).round()\n",
    "avg_precio"
   ]
  },
  {
   "cell_type": "code",
   "execution_count": 33,
   "metadata": {},
   "outputs": [
    {
     "data": {
      "text/plain": [
       "52.0"
      ]
     },
     "execution_count": 33,
     "metadata": {},
     "output_type": "execute_result"
    }
   ],
   "source": [
    "# valor\n",
    "w = np.random.randint(0,100, df.shape[0])\n",
    "\n",
    "avg_valor = np.average(df[\"value_price\"], weights=w).round()\n",
    "avg_valor"
   ]
  },
  {
   "cell_type": "code",
   "execution_count": 34,
   "metadata": {},
   "outputs": [
    {
     "data": {
      "text/plain": [
       "4.0"
      ]
     },
     "execution_count": 34,
     "metadata": {},
     "output_type": "execute_result"
    }
   ],
   "source": [
    "# rating\n",
    "w = np.random.randint(0,100, df.shape[0])\n",
    "\n",
    "avg_rating = np.average(df[\"rating\"], weights=w).round()\n",
    "avg_rating"
   ]
  },
  {
   "attachments": {},
   "cell_type": "markdown",
   "metadata": {},
   "source": [
    "En este caso, como los pesos estan otorgados aleatoríamente la media ponderada tiene unos valores similares a la media aritmética. No nos aporta información ya que no consideramos que ningún producto tenga que tener un peso diferente a otro."
   ]
  },
  {
   "attachments": {},
   "cell_type": "markdown",
   "metadata": {},
   "source": [
    "### Robustez\n",
    "\n",
    "---"
   ]
  },
  {
   "cell_type": "code",
   "execution_count": 35,
   "metadata": {},
   "outputs": [
    {
     "name": "stdout",
     "output_type": "stream",
     "text": [
      "5.194049696667498e-06\n"
     ]
    }
   ],
   "source": [
    "robustez = 1/df.size\n",
    "print(robustez)"
   ]
  },
  {
   "attachments": {},
   "cell_type": "markdown",
   "metadata": {},
   "source": [
    "Calculamos la robustez de la media siendo esta muy cercana a 0, con lo que el punto de ruptura de la media es muy bajo y por lo tanto poco robusta, se ve muy afectada por valores atipicos."
   ]
  },
  {
   "attachments": {},
   "cell_type": "markdown",
   "metadata": {},
   "source": [
    "### Coeficiente de variacion\n",
    "\n",
    "---"
   ]
  },
  {
   "cell_type": "code",
   "execution_count": 36,
   "metadata": {},
   "outputs": [
    {
     "data": {
      "text/plain": [
       "0.9421691785421702"
      ]
     },
     "execution_count": 36,
     "metadata": {},
     "output_type": "execute_result"
    }
   ],
   "source": [
    "# Precio\n",
    "coef_var_precio = desvtipica_precio / media_precio \n",
    "coef_var_precio"
   ]
  },
  {
   "cell_type": "code",
   "execution_count": 37,
   "metadata": {},
   "outputs": [
    {
     "data": {
      "text/plain": [
       "0.9544388316708133"
      ]
     },
     "execution_count": 37,
     "metadata": {},
     "output_type": "execute_result"
    }
   ],
   "source": [
    "# valor\n",
    "coef_var_valor = desvtipica_valor / media_valor\n",
    "coef_var_valor"
   ]
  },
  {
   "cell_type": "code",
   "execution_count": 38,
   "metadata": {},
   "outputs": [
    {
     "data": {
      "text/plain": [
       "0.25255803898799667"
      ]
     },
     "execution_count": 38,
     "metadata": {},
     "output_type": "execute_result"
    }
   ],
   "source": [
    "# rating\n",
    "coef_var_rating = desvtipica_rating / media_rating \n",
    "coef_var_rating"
   ]
  },
  {
   "attachments": {},
   "cell_type": "markdown",
   "metadata": {},
   "source": [
    "Al valorar el coeficiente de variación nos damos cuenta de que los datos de los precios y valores son muy heterogéneos  y sin embargo los ratings tiene valores mucho más homogéneos."
   ]
  }
 ],
 "metadata": {
  "kernelspec": {
   "display_name": "base",
   "language": "python",
   "name": "python3"
  },
  "language_info": {
   "codemirror_mode": {
    "name": "ipython",
    "version": 3
   },
   "file_extension": ".py",
   "mimetype": "text/x-python",
   "name": "python",
   "nbconvert_exporter": "python",
   "pygments_lexer": "ipython3",
   "version": "3.9.13"
  },
  "orig_nbformat": 4,
  "vscode": {
   "interpreter": {
    "hash": "4b1ecc98482ac3f78e7638a36d488665c227c7cb0420745d3c03f1c165a0d66a"
   }
  }
 },
 "nbformat": 4,
 "nbformat_minor": 2
}
